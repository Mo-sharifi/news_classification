{
 "cells": [
  {
   "cell_type": "markdown",
   "id": "a5bf610c",
   "metadata": {},
   "source": [
    "# news_classification"
   ]
  },
  {
   "cell_type": "code",
   "execution_count": 1,
   "id": "64ac7412",
   "metadata": {},
   "outputs": [],
   "source": [
    "import pandas as pd"
   ]
  },
  {
   "cell_type": "markdown",
   "id": "0dae2b60",
   "metadata": {},
   "source": [
    "## Load_dataset"
   ]
  },
  {
   "cell_type": "code",
   "execution_count": 2,
   "id": "99b3d8d5",
   "metadata": {},
   "outputs": [
    {
     "data": {
      "text/html": [
       "<div>\n",
       "<style scoped>\n",
       "    .dataframe tbody tr th:only-of-type {\n",
       "        vertical-align: middle;\n",
       "    }\n",
       "\n",
       "    .dataframe tbody tr th {\n",
       "        vertical-align: top;\n",
       "    }\n",
       "\n",
       "    .dataframe thead th {\n",
       "        text-align: right;\n",
       "    }\n",
       "</style>\n",
       "<table border=\"1\" class=\"dataframe\">\n",
       "  <thead>\n",
       "    <tr style=\"text-align: right;\">\n",
       "      <th></th>\n",
       "      <th>title</th>\n",
       "      <th>description</th>\n",
       "      <th>tags</th>\n",
       "    </tr>\n",
       "  </thead>\n",
       "  <tbody>\n",
       "    <tr>\n",
       "      <th>0</th>\n",
       "      <td>روایتی از تحصیل زیرسقف‌های لرزان و سرمای سوزان...</td>\n",
       "      <td>گروه استان‌ها- دانش‌آموزان مدرسه روستای کَهنان...</td>\n",
       "      <td>استانها</td>\n",
       "    </tr>\n",
       "    <tr>\n",
       "      <th>1</th>\n",
       "      <td>انقلابی سرشناس بحرین در گفت‌وگو با تسنیم: مردم...</td>\n",
       "      <td>گروه استان‌ها ــ انقلابی سرشناس بحرین با بیان ...</td>\n",
       "      <td>استانها</td>\n",
       "    </tr>\n",
       "    <tr>\n",
       "      <th>2</th>\n",
       "      <td>‌زندگی مردم در شهر قم ‌جریان دارد / پیشگیری در...</td>\n",
       "      <td>گروه استان‌ها ــ با اعلام شیوع ویروس کرونا در ...</td>\n",
       "      <td>استانها</td>\n",
       "    </tr>\n",
       "    <tr>\n",
       "      <th>3</th>\n",
       "      <td>واکنش &amp;quot;پروفسور کرمی&amp;quot; به دروغ‌پراکنی ...</td>\n",
       "      <td>یک متخصص بیوتکنولوژی پزشکی با بیان اینکه مرگ‌و...</td>\n",
       "      <td>اجتماعی</td>\n",
       "    </tr>\n",
       "    <tr>\n",
       "      <th>4</th>\n",
       "      <td>مردم نگران تأمین کالاهای موردنیاز خود نباشند/ ...</td>\n",
       "      <td>رئیس اتحادیه فروشگاه‌های زنجیره‌ای با اشاره به...</td>\n",
       "      <td>اقتصادی</td>\n",
       "    </tr>\n",
       "  </tbody>\n",
       "</table>\n",
       "</div>"
      ],
      "text/plain": [
       "                                               title  \\\n",
       "0  روایتی از تحصیل زیرسقف‌های لرزان و سرمای سوزان...   \n",
       "1  انقلابی سرشناس بحرین در گفت‌وگو با تسنیم: مردم...   \n",
       "2  ‌زندگی مردم در شهر قم ‌جریان دارد / پیشگیری در...   \n",
       "3  واکنش &quot;پروفسور کرمی&quot; به دروغ‌پراکنی ...   \n",
       "4  مردم نگران تأمین کالاهای موردنیاز خود نباشند/ ...   \n",
       "\n",
       "                                         description     tags  \n",
       "0  گروه استان‌ها- دانش‌آموزان مدرسه روستای کَهنان...  استانها  \n",
       "1  گروه استان‌ها ــ انقلابی سرشناس بحرین با بیان ...  استانها  \n",
       "2  گروه استان‌ها ــ با اعلام شیوع ویروس کرونا در ...  استانها  \n",
       "3  یک متخصص بیوتکنولوژی پزشکی با بیان اینکه مرگ‌و...  اجتماعی  \n",
       "4  رئیس اتحادیه فروشگاه‌های زنجیره‌ای با اشاره به...  اقتصادی  "
      ]
     },
     "execution_count": 2,
     "metadata": {},
     "output_type": "execute_result"
    }
   ],
   "source": [
    "df_train = pd.read_csv(\"./data/train_data.csv\")\n",
    "df_train.head()"
   ]
  },
  {
   "cell_type": "markdown",
   "id": "3a9b8e5c",
   "metadata": {},
   "source": [
    "## EDA"
   ]
  },
  {
   "cell_type": "code",
   "execution_count": 3,
   "id": "4ec463f0",
   "metadata": {},
   "outputs": [
    {
     "name": "stdout",
     "output_type": "stream",
     "text": [
      "<class 'pandas.core.frame.DataFrame'>\n",
      "RangeIndex: 12457 entries, 0 to 12456\n",
      "Data columns (total 3 columns):\n",
      " #   Column       Non-Null Count  Dtype \n",
      "---  ------       --------------  ----- \n",
      " 0   title        12457 non-null  object\n",
      " 1   description  12457 non-null  object\n",
      " 2   tags         12455 non-null  object\n",
      "dtypes: object(3)\n",
      "memory usage: 292.1+ KB\n"
     ]
    }
   ],
   "source": [
    "df_train.info()"
   ]
  },
  {
   "cell_type": "code",
   "execution_count": 4,
   "id": "8b164f50",
   "metadata": {},
   "outputs": [
    {
     "data": {
      "text/plain": [
       "(12457, 3)"
      ]
     },
     "execution_count": 4,
     "metadata": {},
     "output_type": "execute_result"
    }
   ],
   "source": [
    "df_train.shape"
   ]
  },
  {
   "cell_type": "markdown",
   "id": "6733df23",
   "metadata": {},
   "source": [
    "### Missing value"
   ]
  },
  {
   "cell_type": "code",
   "execution_count": 5,
   "id": "c55a4fdd",
   "metadata": {},
   "outputs": [
    {
     "data": {
      "text/plain": [
       "title          0\n",
       "description    0\n",
       "tags           2\n",
       "dtype: int64"
      ]
     },
     "execution_count": 5,
     "metadata": {},
     "output_type": "execute_result"
    }
   ],
   "source": [
    "df_train.isna().sum()"
   ]
  },
  {
   "cell_type": "code",
   "execution_count": 6,
   "id": "f16f5cd5",
   "metadata": {},
   "outputs": [
    {
     "data": {
      "text/html": [
       "<div>\n",
       "<style scoped>\n",
       "    .dataframe tbody tr th:only-of-type {\n",
       "        vertical-align: middle;\n",
       "    }\n",
       "\n",
       "    .dataframe tbody tr th {\n",
       "        vertical-align: top;\n",
       "    }\n",
       "\n",
       "    .dataframe thead th {\n",
       "        text-align: right;\n",
       "    }\n",
       "</style>\n",
       "<table border=\"1\" class=\"dataframe\">\n",
       "  <thead>\n",
       "    <tr style=\"text-align: right;\">\n",
       "      <th></th>\n",
       "      <th>title</th>\n",
       "      <th>description</th>\n",
       "      <th>tags</th>\n",
       "    </tr>\n",
       "  </thead>\n",
       "  <tbody>\n",
       "    <tr>\n",
       "      <th>11659</th>\n",
       "      <td>مجید آذرپی به زندان اوین بازگشت</td>\n",
       "      <td>مجید آذرپی، زندانی سیاسی اصلاح‌طلب و عضو ستاد ...</td>\n",
       "      <td>NaN</td>\n",
       "    </tr>\n",
       "    <tr>\n",
       "      <th>12186</th>\n",
       "      <td>مقام آموزش و پرورش: الزام دانش آموزان به پوشش ...</td>\n",
       "      <td>مدیرکل انجمن اولیا و مربیان وزارت آموزش و پرور...</td>\n",
       "      <td>NaN</td>\n",
       "    </tr>\n",
       "  </tbody>\n",
       "</table>\n",
       "</div>"
      ],
      "text/plain": [
       "                                                   title  \\\n",
       "11659                    مجید آذرپی به زندان اوین بازگشت   \n",
       "12186  مقام آموزش و پرورش: الزام دانش آموزان به پوشش ...   \n",
       "\n",
       "                                             description tags  \n",
       "11659  مجید آذرپی، زندانی سیاسی اصلاح‌طلب و عضو ستاد ...  NaN  \n",
       "12186  مدیرکل انجمن اولیا و مربیان وزارت آموزش و پرور...  NaN  "
      ]
     },
     "execution_count": 6,
     "metadata": {},
     "output_type": "execute_result"
    }
   ],
   "source": [
    "df_train[df_train[\"tags\"].isna()]"
   ]
  },
  {
   "cell_type": "code",
   "execution_count": 7,
   "id": "d1cb323c",
   "metadata": {},
   "outputs": [],
   "source": [
    "df_train.dropna(inplace=True)"
   ]
  },
  {
   "cell_type": "code",
   "execution_count": 8,
   "id": "e19cc933",
   "metadata": {},
   "outputs": [
    {
     "data": {
      "text/html": [
       "<div>\n",
       "<style scoped>\n",
       "    .dataframe tbody tr th:only-of-type {\n",
       "        vertical-align: middle;\n",
       "    }\n",
       "\n",
       "    .dataframe tbody tr th {\n",
       "        vertical-align: top;\n",
       "    }\n",
       "\n",
       "    .dataframe thead th {\n",
       "        text-align: right;\n",
       "    }\n",
       "</style>\n",
       "<table border=\"1\" class=\"dataframe\">\n",
       "  <thead>\n",
       "    <tr style=\"text-align: right;\">\n",
       "      <th></th>\n",
       "      <th>description</th>\n",
       "      <th>title</th>\n",
       "    </tr>\n",
       "  </thead>\n",
       "  <tbody>\n",
       "    <tr>\n",
       "      <th>mean</th>\n",
       "      <td>2406.14</td>\n",
       "      <td>62.86</td>\n",
       "    </tr>\n",
       "    <tr>\n",
       "      <th>min</th>\n",
       "      <td>1.00</td>\n",
       "      <td>11.00</td>\n",
       "    </tr>\n",
       "    <tr>\n",
       "      <th>max</th>\n",
       "      <td>55609.00</td>\n",
       "      <td>187.00</td>\n",
       "    </tr>\n",
       "    <tr>\n",
       "      <th>median</th>\n",
       "      <td>1218.00</td>\n",
       "      <td>60.00</td>\n",
       "    </tr>\n",
       "    <tr>\n",
       "      <th>count</th>\n",
       "      <td>12455.00</td>\n",
       "      <td>12455.00</td>\n",
       "    </tr>\n",
       "    <tr>\n",
       "      <th>std</th>\n",
       "      <td>2952.85</td>\n",
       "      <td>19.42</td>\n",
       "    </tr>\n",
       "  </tbody>\n",
       "</table>\n",
       "</div>"
      ],
      "text/plain": [
       "        description     title\n",
       "mean        2406.14     62.86\n",
       "min            1.00     11.00\n",
       "max        55609.00    187.00\n",
       "median      1218.00     60.00\n",
       "count      12455.00  12455.00\n",
       "std         2952.85     19.42"
      ]
     },
     "execution_count": 8,
     "metadata": {},
     "output_type": "execute_result"
    }
   ],
   "source": [
    "df_train[[\"description\", \"title\"]].agg(\n",
    "    lambda x: x.str.len()\n",
    "    .agg(\n",
    "        [\"mean\", \"min\", \"max\", \"median\", \"count\", \"std\"]\n",
    "    )\n",
    ").round(2)"
   ]
  },
  {
   "cell_type": "code",
   "execution_count": 9,
   "id": "2ef57f39",
   "metadata": {},
   "outputs": [
    {
     "data": {
      "text/plain": [
       "9851      1\n",
       "10038     1\n",
       "9756      3\n",
       "9755      3\n",
       "9752      3\n",
       "322      43\n",
       "1381     44\n",
       "559      44\n",
       "200      45\n",
       "551      46\n",
       "337      47\n",
       "1587     49\n",
       "2930     51\n",
       "140      53\n",
       "1316     54\n",
       "Name: description, dtype: int64"
      ]
     },
     "execution_count": 9,
     "metadata": {},
     "output_type": "execute_result"
    }
   ],
   "source": [
    "df_train[\"description\"].str.len().sort_values()[:15]"
   ]
  },
  {
   "cell_type": "code",
   "execution_count": 10,
   "id": "85f3b651",
   "metadata": {},
   "outputs": [
    {
     "data": {
      "text/plain": [
       "9752     . \\n\n",
       "9755     . \\n\n",
       "9756     . \\n\n",
       "9851       \\n\n",
       "10038      \\n\n",
       "Name: description, dtype: object"
      ]
     },
     "execution_count": 10,
     "metadata": {},
     "output_type": "execute_result"
    }
   ],
   "source": [
    "df_train[\"description\"][df_train[\"description\"].str.len().isin([1, 3])]"
   ]
  },
  {
   "cell_type": "code",
   "execution_count": 11,
   "id": "5340a0fa",
   "metadata": {},
   "outputs": [
    {
     "data": {
      "text/plain": [
       "Index([9752, 9755, 9756, 9851, 10038], dtype='int64')"
      ]
     },
     "execution_count": 11,
     "metadata": {},
     "output_type": "execute_result"
    }
   ],
   "source": [
    "invalid_description_index = df_train[\"description\"][df_train[\"description\"].str.len().isin([\n",
    "    1, 3])].index\n",
    "invalid_description_index"
   ]
  },
  {
   "cell_type": "code",
   "execution_count": 12,
   "id": "c088a934",
   "metadata": {},
   "outputs": [],
   "source": [
    "df_train.drop(invalid_description_index,inplace=True)"
   ]
  },
  {
   "cell_type": "code",
   "execution_count": 13,
   "id": "5809c69b",
   "metadata": {},
   "outputs": [
    {
     "data": {
      "text/plain": [
       "(12450, 3)"
      ]
     },
     "execution_count": 13,
     "metadata": {},
     "output_type": "execute_result"
    }
   ],
   "source": [
    "df_train.shape"
   ]
  },
  {
   "cell_type": "markdown",
   "id": "1d48db13",
   "metadata": {},
   "source": [
    "### Create Text data form 'title' and 'description'"
   ]
  },
  {
   "cell_type": "code",
   "execution_count": 14,
   "id": "ffc0375b",
   "metadata": {},
   "outputs": [
    {
     "data": {
      "text/html": [
       "<div>\n",
       "<style scoped>\n",
       "    .dataframe tbody tr th:only-of-type {\n",
       "        vertical-align: middle;\n",
       "    }\n",
       "\n",
       "    .dataframe tbody tr th {\n",
       "        vertical-align: top;\n",
       "    }\n",
       "\n",
       "    .dataframe thead th {\n",
       "        text-align: right;\n",
       "    }\n",
       "</style>\n",
       "<table border=\"1\" class=\"dataframe\">\n",
       "  <thead>\n",
       "    <tr style=\"text-align: right;\">\n",
       "      <th></th>\n",
       "      <th>tags</th>\n",
       "      <th>text</th>\n",
       "    </tr>\n",
       "  </thead>\n",
       "  <tbody>\n",
       "    <tr>\n",
       "      <th>0</th>\n",
       "      <td>استانها</td>\n",
       "      <td>روایتی از تحصیل زیرسقف‌های لرزان و سرمای سوزان...</td>\n",
       "    </tr>\n",
       "    <tr>\n",
       "      <th>1</th>\n",
       "      <td>استانها</td>\n",
       "      <td>انقلابی سرشناس بحرین در گفت‌وگو با تسنیم: مردم...</td>\n",
       "    </tr>\n",
       "    <tr>\n",
       "      <th>2</th>\n",
       "      <td>استانها</td>\n",
       "      <td>‌زندگی مردم در شهر قم ‌جریان دارد / پیشگیری در...</td>\n",
       "    </tr>\n",
       "    <tr>\n",
       "      <th>3</th>\n",
       "      <td>اجتماعی</td>\n",
       "      <td>واکنش &amp;quot;پروفسور کرمی&amp;quot; به دروغ‌پراکنی ...</td>\n",
       "    </tr>\n",
       "    <tr>\n",
       "      <th>4</th>\n",
       "      <td>اقتصادی</td>\n",
       "      <td>مردم نگران تأمین کالاهای موردنیاز خود نباشند/ ...</td>\n",
       "    </tr>\n",
       "    <tr>\n",
       "      <th>...</th>\n",
       "      <td>...</td>\n",
       "      <td>...</td>\n",
       "    </tr>\n",
       "    <tr>\n",
       "      <th>12452</th>\n",
       "      <td>سیاسی</td>\n",
       "      <td>علیرضا زاکانی رئیس مرکز پژوهش‌های مجلس شد به ن...</td>\n",
       "    </tr>\n",
       "    <tr>\n",
       "      <th>12453</th>\n",
       "      <td>سیاسی</td>\n",
       "      <td>قوه قضائیه: تقاضای فرجام در پرونده روح‌الله زم...</td>\n",
       "    </tr>\n",
       "    <tr>\n",
       "      <th>12454</th>\n",
       "      <td>بایگانی</td>\n",
       "      <td>روسیه: ابراز نگرانی لاوروف و ظریف درباره حضور ...</td>\n",
       "    </tr>\n",
       "    <tr>\n",
       "      <th>12455</th>\n",
       "      <td>بایگانی</td>\n",
       "      <td>وزیر خارجه ایران وارد بیروت شد در حالی که اعتر...</td>\n",
       "    </tr>\n",
       "    <tr>\n",
       "      <th>12456</th>\n",
       "      <td>بایگانی</td>\n",
       "      <td>هوشنگ ظریف، استاد موسیقی سنتی ایران درگذشت هوش...</td>\n",
       "    </tr>\n",
       "  </tbody>\n",
       "</table>\n",
       "<p>12450 rows × 2 columns</p>\n",
       "</div>"
      ],
      "text/plain": [
       "          tags                                               text\n",
       "0      استانها  روایتی از تحصیل زیرسقف‌های لرزان و سرمای سوزان...\n",
       "1      استانها  انقلابی سرشناس بحرین در گفت‌وگو با تسنیم: مردم...\n",
       "2      استانها  ‌زندگی مردم در شهر قم ‌جریان دارد / پیشگیری در...\n",
       "3      اجتماعی  واکنش &quot;پروفسور کرمی&quot; به دروغ‌پراکنی ...\n",
       "4      اقتصادی  مردم نگران تأمین کالاهای موردنیاز خود نباشند/ ...\n",
       "...        ...                                                ...\n",
       "12452    سیاسی  علیرضا زاکانی رئیس مرکز پژوهش‌های مجلس شد به ن...\n",
       "12453    سیاسی  قوه قضائیه: تقاضای فرجام در پرونده روح‌الله زم...\n",
       "12454  بایگانی  روسیه: ابراز نگرانی لاوروف و ظریف درباره حضور ...\n",
       "12455  بایگانی  وزیر خارجه ایران وارد بیروت شد در حالی که اعتر...\n",
       "12456  بایگانی  هوشنگ ظریف، استاد موسیقی سنتی ایران درگذشت هوش...\n",
       "\n",
       "[12450 rows x 2 columns]"
      ]
     },
     "execution_count": 14,
     "metadata": {},
     "output_type": "execute_result"
    }
   ],
   "source": [
    "df_train[\"text\"] = df_train[\"title\"] + \" \" + df_train[\"description\"]\n",
    "df_train.drop(columns=[\"title\",\"description\"],inplace=True)\n",
    "df_train"
   ]
  },
  {
   "cell_type": "code",
   "execution_count": 20,
   "id": "26eb0a9a",
   "metadata": {},
   "outputs": [
    {
     "data": {
      "text/plain": [
       "tags\n",
       "جهان                  1657\n",
       "ایران                 1188\n",
       "بین الملل              972\n",
       "سیاسی                  921\n",
       "سیاسی > دولت           506\n",
       "                      ... \n",
       "ورزشی > توپ و تور        1\n",
       "بین الملل > فلسطین       1\n",
       "استان ها > اردبیل        1\n",
       "استان ها > یزد           1\n",
       "استان ها > فارس          1\n",
       "Name: count, Length: 99, dtype: int64"
      ]
     },
     "execution_count": 20,
     "metadata": {},
     "output_type": "execute_result"
    }
   ],
   "source": [
    "df_train[\"tags\"].value_counts()"
   ]
  },
  {
   "cell_type": "markdown",
   "id": "d480d0c9",
   "metadata": {},
   "source": [
    "##### remove unnesesery column type "
   ]
  },
  {
   "cell_type": "code",
   "execution_count": 19,
   "id": "27366e44",
   "metadata": {},
   "outputs": [],
   "source": [
    "df_train = df_train[df_train[\"tags\"]!=\"بایگانی\"]"
   ]
  },
  {
   "cell_type": "code",
   "execution_count": 21,
   "id": "f5c3fa10",
   "metadata": {},
   "outputs": [
    {
     "data": {
      "text/html": [
       "<div>\n",
       "<style scoped>\n",
       "    .dataframe tbody tr th:only-of-type {\n",
       "        vertical-align: middle;\n",
       "    }\n",
       "\n",
       "    .dataframe tbody tr th {\n",
       "        vertical-align: top;\n",
       "    }\n",
       "\n",
       "    .dataframe thead th {\n",
       "        text-align: right;\n",
       "    }\n",
       "</style>\n",
       "<table border=\"1\" class=\"dataframe\">\n",
       "  <thead>\n",
       "    <tr style=\"text-align: right;\">\n",
       "      <th></th>\n",
       "      <th>tags</th>\n",
       "      <th>text</th>\n",
       "    </tr>\n",
       "  </thead>\n",
       "  <tbody>\n",
       "    <tr>\n",
       "      <th>0</th>\n",
       "      <td>استانها</td>\n",
       "      <td>روایتی از تحصیل زیرسقف‌های لرزان و سرمای سوزان...</td>\n",
       "    </tr>\n",
       "    <tr>\n",
       "      <th>1</th>\n",
       "      <td>استانها</td>\n",
       "      <td>انقلابی سرشناس بحرین در گفت‌وگو با تسنیم: مردم...</td>\n",
       "    </tr>\n",
       "    <tr>\n",
       "      <th>2</th>\n",
       "      <td>استانها</td>\n",
       "      <td>‌زندگی مردم در شهر قم ‌جریان دارد / پیشگیری در...</td>\n",
       "    </tr>\n",
       "    <tr>\n",
       "      <th>3</th>\n",
       "      <td>اجتماعی</td>\n",
       "      <td>واکنش &amp;quot;پروفسور کرمی&amp;quot; به دروغ‌پراکنی ...</td>\n",
       "    </tr>\n",
       "    <tr>\n",
       "      <th>4</th>\n",
       "      <td>اقتصادی</td>\n",
       "      <td>مردم نگران تأمین کالاهای موردنیاز خود نباشند/ ...</td>\n",
       "    </tr>\n",
       "  </tbody>\n",
       "</table>\n",
       "</div>"
      ],
      "text/plain": [
       "      tags                                               text\n",
       "0  استانها  روایتی از تحصیل زیرسقف‌های لرزان و سرمای سوزان...\n",
       "1  استانها  انقلابی سرشناس بحرین در گفت‌وگو با تسنیم: مردم...\n",
       "2  استانها  ‌زندگی مردم در شهر قم ‌جریان دارد / پیشگیری در...\n",
       "3  اجتماعی  واکنش &quot;پروفسور کرمی&quot; به دروغ‌پراکنی ...\n",
       "4  اقتصادی  مردم نگران تأمین کالاهای موردنیاز خود نباشند/ ..."
      ]
     },
     "execution_count": 21,
     "metadata": {},
     "output_type": "execute_result"
    }
   ],
   "source": [
    "df_train.head()"
   ]
  },
  {
   "cell_type": "code",
   "execution_count": null,
   "id": "75546b08",
   "metadata": {},
   "outputs": [],
   "source": []
  }
 ],
 "metadata": {
  "kernelspec": {
   "display_name": "py310",
   "language": "python",
   "name": "python3"
  },
  "language_info": {
   "codemirror_mode": {
    "name": "ipython",
    "version": 3
   },
   "file_extension": ".py",
   "mimetype": "text/x-python",
   "name": "python",
   "nbconvert_exporter": "python",
   "pygments_lexer": "ipython3",
   "version": "3.10.18"
  }
 },
 "nbformat": 4,
 "nbformat_minor": 5
}
