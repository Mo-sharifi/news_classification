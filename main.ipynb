{
 "cells": [
  {
   "cell_type": "markdown",
   "id": "a5bf610c",
   "metadata": {},
   "source": [
    "### news_classification"
   ]
  },
  {
   "cell_type": "code",
   "execution_count": 2,
   "id": "64ac7412",
   "metadata": {},
   "outputs": [],
   "source": [
    "import pandas as pd"
   ]
  },
  {
   "cell_type": "markdown",
   "id": "0dae2b60",
   "metadata": {},
   "source": [
    "#### Load_dataset"
   ]
  },
  {
   "cell_type": "code",
   "execution_count": 3,
   "id": "99b3d8d5",
   "metadata": {},
   "outputs": [
    {
     "data": {
      "text/html": [
       "<div>\n",
       "<style scoped>\n",
       "    .dataframe tbody tr th:only-of-type {\n",
       "        vertical-align: middle;\n",
       "    }\n",
       "\n",
       "    .dataframe tbody tr th {\n",
       "        vertical-align: top;\n",
       "    }\n",
       "\n",
       "    .dataframe thead th {\n",
       "        text-align: right;\n",
       "    }\n",
       "</style>\n",
       "<table border=\"1\" class=\"dataframe\">\n",
       "  <thead>\n",
       "    <tr style=\"text-align: right;\">\n",
       "      <th></th>\n",
       "      <th>title</th>\n",
       "      <th>description</th>\n",
       "      <th>tags</th>\n",
       "    </tr>\n",
       "  </thead>\n",
       "  <tbody>\n",
       "    <tr>\n",
       "      <th>0</th>\n",
       "      <td>روایتی از تحصیل زیرسقف‌های لرزان و سرمای سوزان...</td>\n",
       "      <td>گروه استان‌ها- دانش‌آموزان مدرسه روستای کَهنان...</td>\n",
       "      <td>استانها</td>\n",
       "    </tr>\n",
       "    <tr>\n",
       "      <th>1</th>\n",
       "      <td>انقلابی سرشناس بحرین در گفت‌وگو با تسنیم: مردم...</td>\n",
       "      <td>گروه استان‌ها ــ انقلابی سرشناس بحرین با بیان ...</td>\n",
       "      <td>استانها</td>\n",
       "    </tr>\n",
       "    <tr>\n",
       "      <th>2</th>\n",
       "      <td>‌زندگی مردم در شهر قم ‌جریان دارد / پیشگیری در...</td>\n",
       "      <td>گروه استان‌ها ــ با اعلام شیوع ویروس کرونا در ...</td>\n",
       "      <td>استانها</td>\n",
       "    </tr>\n",
       "    <tr>\n",
       "      <th>3</th>\n",
       "      <td>واکنش &amp;quot;پروفسور کرمی&amp;quot; به دروغ‌پراکنی ...</td>\n",
       "      <td>یک متخصص بیوتکنولوژی پزشکی با بیان اینکه مرگ‌و...</td>\n",
       "      <td>اجتماعی</td>\n",
       "    </tr>\n",
       "    <tr>\n",
       "      <th>4</th>\n",
       "      <td>مردم نگران تأمین کالاهای موردنیاز خود نباشند/ ...</td>\n",
       "      <td>رئیس اتحادیه فروشگاه‌های زنجیره‌ای با اشاره به...</td>\n",
       "      <td>اقتصادی</td>\n",
       "    </tr>\n",
       "  </tbody>\n",
       "</table>\n",
       "</div>"
      ],
      "text/plain": [
       "                                               title  \\\n",
       "0  روایتی از تحصیل زیرسقف‌های لرزان و سرمای سوزان...   \n",
       "1  انقلابی سرشناس بحرین در گفت‌وگو با تسنیم: مردم...   \n",
       "2  ‌زندگی مردم در شهر قم ‌جریان دارد / پیشگیری در...   \n",
       "3  واکنش &quot;پروفسور کرمی&quot; به دروغ‌پراکنی ...   \n",
       "4  مردم نگران تأمین کالاهای موردنیاز خود نباشند/ ...   \n",
       "\n",
       "                                         description     tags  \n",
       "0  گروه استان‌ها- دانش‌آموزان مدرسه روستای کَهنان...  استانها  \n",
       "1  گروه استان‌ها ــ انقلابی سرشناس بحرین با بیان ...  استانها  \n",
       "2  گروه استان‌ها ــ با اعلام شیوع ویروس کرونا در ...  استانها  \n",
       "3  یک متخصص بیوتکنولوژی پزشکی با بیان اینکه مرگ‌و...  اجتماعی  \n",
       "4  رئیس اتحادیه فروشگاه‌های زنجیره‌ای با اشاره به...  اقتصادی  "
      ]
     },
     "execution_count": 3,
     "metadata": {},
     "output_type": "execute_result"
    }
   ],
   "source": [
    "df_train = pd.read_csv(\"./data/train_data.csv\")\n",
    "df_train.head()"
   ]
  },
  {
   "cell_type": "markdown",
   "id": "3a9b8e5c",
   "metadata": {},
   "source": [
    "#### EDA"
   ]
  },
  {
   "cell_type": "code",
   "execution_count": null,
   "id": "4ec463f0",
   "metadata": {},
   "outputs": [],
   "source": []
  }
 ],
 "metadata": {
  "kernelspec": {
   "display_name": "py310",
   "language": "python",
   "name": "python3"
  },
  "language_info": {
   "codemirror_mode": {
    "name": "ipython",
    "version": 3
   },
   "file_extension": ".py",
   "mimetype": "text/x-python",
   "name": "python",
   "nbconvert_exporter": "python",
   "pygments_lexer": "ipython3",
   "version": "3.10.18"
  }
 },
 "nbformat": 4,
 "nbformat_minor": 5
}
