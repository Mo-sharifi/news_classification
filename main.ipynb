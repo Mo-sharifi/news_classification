{
 "cells": [
  {
   "cell_type": "markdown",
   "id": "a5bf610c",
   "metadata": {},
   "source": [
    "# news_classification"
   ]
  },
  {
   "cell_type": "code",
   "execution_count": 107,
   "id": "64ac7412",
   "metadata": {},
   "outputs": [],
   "source": [
    "import pandas as pd\n",
    "import re\n",
    "from collections import Counter\n",
    "from hazm import Normalizer, word_tokenize, stopwords_list\n",
    "from sklearn.model_selection import train_test_split , GridSearchCV\n",
    "from sklearn.feature_extraction.text import TfidfVectorizer\n",
    "from sklearn.pipeline import Pipeline\n",
    "from sklearn.metrics import f1_score, classification_report\n",
    "from sklearn.svm import LinearSVC\n",
    "from sklearn.linear_model import LogisticRegression"
   ]
  },
  {
   "cell_type": "markdown",
   "id": "0dae2b60",
   "metadata": {},
   "source": [
    "## Load_dataset"
   ]
  },
  {
   "cell_type": "code",
   "execution_count": 2,
   "id": "99b3d8d5",
   "metadata": {},
   "outputs": [
    {
     "data": {
      "text/html": [
       "<div>\n",
       "<style scoped>\n",
       "    .dataframe tbody tr th:only-of-type {\n",
       "        vertical-align: middle;\n",
       "    }\n",
       "\n",
       "    .dataframe tbody tr th {\n",
       "        vertical-align: top;\n",
       "    }\n",
       "\n",
       "    .dataframe thead th {\n",
       "        text-align: right;\n",
       "    }\n",
       "</style>\n",
       "<table border=\"1\" class=\"dataframe\">\n",
       "  <thead>\n",
       "    <tr style=\"text-align: right;\">\n",
       "      <th></th>\n",
       "      <th>title</th>\n",
       "      <th>description</th>\n",
       "      <th>tags</th>\n",
       "    </tr>\n",
       "  </thead>\n",
       "  <tbody>\n",
       "    <tr>\n",
       "      <th>0</th>\n",
       "      <td>روایتی از تحصیل زیرسقف‌های لرزان و سرمای سوزان...</td>\n",
       "      <td>گروه استان‌ها- دانش‌آموزان مدرسه روستای کَهنان...</td>\n",
       "      <td>استانها</td>\n",
       "    </tr>\n",
       "    <tr>\n",
       "      <th>1</th>\n",
       "      <td>انقلابی سرشناس بحرین در گفت‌وگو با تسنیم: مردم...</td>\n",
       "      <td>گروه استان‌ها ــ انقلابی سرشناس بحرین با بیان ...</td>\n",
       "      <td>استانها</td>\n",
       "    </tr>\n",
       "    <tr>\n",
       "      <th>2</th>\n",
       "      <td>‌زندگی مردم در شهر قم ‌جریان دارد / پیشگیری در...</td>\n",
       "      <td>گروه استان‌ها ــ با اعلام شیوع ویروس کرونا در ...</td>\n",
       "      <td>استانها</td>\n",
       "    </tr>\n",
       "    <tr>\n",
       "      <th>3</th>\n",
       "      <td>واکنش &amp;quot;پروفسور کرمی&amp;quot; به دروغ‌پراکنی ...</td>\n",
       "      <td>یک متخصص بیوتکنولوژی پزشکی با بیان اینکه مرگ‌و...</td>\n",
       "      <td>اجتماعی</td>\n",
       "    </tr>\n",
       "    <tr>\n",
       "      <th>4</th>\n",
       "      <td>مردم نگران تأمین کالاهای موردنیاز خود نباشند/ ...</td>\n",
       "      <td>رئیس اتحادیه فروشگاه‌های زنجیره‌ای با اشاره به...</td>\n",
       "      <td>اقتصادی</td>\n",
       "    </tr>\n",
       "  </tbody>\n",
       "</table>\n",
       "</div>"
      ],
      "text/plain": [
       "                                               title  \\\n",
       "0  روایتی از تحصیل زیرسقف‌های لرزان و سرمای سوزان...   \n",
       "1  انقلابی سرشناس بحرین در گفت‌وگو با تسنیم: مردم...   \n",
       "2  ‌زندگی مردم در شهر قم ‌جریان دارد / پیشگیری در...   \n",
       "3  واکنش &quot;پروفسور کرمی&quot; به دروغ‌پراکنی ...   \n",
       "4  مردم نگران تأمین کالاهای موردنیاز خود نباشند/ ...   \n",
       "\n",
       "                                         description     tags  \n",
       "0  گروه استان‌ها- دانش‌آموزان مدرسه روستای کَهنان...  استانها  \n",
       "1  گروه استان‌ها ــ انقلابی سرشناس بحرین با بیان ...  استانها  \n",
       "2  گروه استان‌ها ــ با اعلام شیوع ویروس کرونا در ...  استانها  \n",
       "3  یک متخصص بیوتکنولوژی پزشکی با بیان اینکه مرگ‌و...  اجتماعی  \n",
       "4  رئیس اتحادیه فروشگاه‌های زنجیره‌ای با اشاره به...  اقتصادی  "
      ]
     },
     "execution_count": 2,
     "metadata": {},
     "output_type": "execute_result"
    }
   ],
   "source": [
    "df_train = pd.read_csv(\"./data/train_data.csv\")\n",
    "df_train.head()"
   ]
  },
  {
   "cell_type": "markdown",
   "id": "3a9b8e5c",
   "metadata": {},
   "source": [
    "## EDA"
   ]
  },
  {
   "cell_type": "code",
   "execution_count": 3,
   "id": "4ec463f0",
   "metadata": {},
   "outputs": [
    {
     "name": "stdout",
     "output_type": "stream",
     "text": [
      "<class 'pandas.core.frame.DataFrame'>\n",
      "RangeIndex: 12457 entries, 0 to 12456\n",
      "Data columns (total 3 columns):\n",
      " #   Column       Non-Null Count  Dtype \n",
      "---  ------       --------------  ----- \n",
      " 0   title        12457 non-null  object\n",
      " 1   description  12457 non-null  object\n",
      " 2   tags         12455 non-null  object\n",
      "dtypes: object(3)\n",
      "memory usage: 292.1+ KB\n"
     ]
    }
   ],
   "source": [
    "df_train.info()"
   ]
  },
  {
   "cell_type": "code",
   "execution_count": 4,
   "id": "8b164f50",
   "metadata": {},
   "outputs": [
    {
     "data": {
      "text/plain": [
       "(12457, 3)"
      ]
     },
     "execution_count": 4,
     "metadata": {},
     "output_type": "execute_result"
    }
   ],
   "source": [
    "df_train.shape"
   ]
  },
  {
   "cell_type": "markdown",
   "id": "6733df23",
   "metadata": {},
   "source": [
    "### Missing value"
   ]
  },
  {
   "cell_type": "code",
   "execution_count": 5,
   "id": "c55a4fdd",
   "metadata": {},
   "outputs": [
    {
     "data": {
      "text/plain": [
       "title          0\n",
       "description    0\n",
       "tags           2\n",
       "dtype: int64"
      ]
     },
     "execution_count": 5,
     "metadata": {},
     "output_type": "execute_result"
    }
   ],
   "source": [
    "df_train.isna().sum()"
   ]
  },
  {
   "cell_type": "code",
   "execution_count": 6,
   "id": "f16f5cd5",
   "metadata": {},
   "outputs": [
    {
     "data": {
      "text/html": [
       "<div>\n",
       "<style scoped>\n",
       "    .dataframe tbody tr th:only-of-type {\n",
       "        vertical-align: middle;\n",
       "    }\n",
       "\n",
       "    .dataframe tbody tr th {\n",
       "        vertical-align: top;\n",
       "    }\n",
       "\n",
       "    .dataframe thead th {\n",
       "        text-align: right;\n",
       "    }\n",
       "</style>\n",
       "<table border=\"1\" class=\"dataframe\">\n",
       "  <thead>\n",
       "    <tr style=\"text-align: right;\">\n",
       "      <th></th>\n",
       "      <th>title</th>\n",
       "      <th>description</th>\n",
       "      <th>tags</th>\n",
       "    </tr>\n",
       "  </thead>\n",
       "  <tbody>\n",
       "    <tr>\n",
       "      <th>11659</th>\n",
       "      <td>مجید آذرپی به زندان اوین بازگشت</td>\n",
       "      <td>مجید آذرپی، زندانی سیاسی اصلاح‌طلب و عضو ستاد ...</td>\n",
       "      <td>NaN</td>\n",
       "    </tr>\n",
       "    <tr>\n",
       "      <th>12186</th>\n",
       "      <td>مقام آموزش و پرورش: الزام دانش آموزان به پوشش ...</td>\n",
       "      <td>مدیرکل انجمن اولیا و مربیان وزارت آموزش و پرور...</td>\n",
       "      <td>NaN</td>\n",
       "    </tr>\n",
       "  </tbody>\n",
       "</table>\n",
       "</div>"
      ],
      "text/plain": [
       "                                                   title  \\\n",
       "11659                    مجید آذرپی به زندان اوین بازگشت   \n",
       "12186  مقام آموزش و پرورش: الزام دانش آموزان به پوشش ...   \n",
       "\n",
       "                                             description tags  \n",
       "11659  مجید آذرپی، زندانی سیاسی اصلاح‌طلب و عضو ستاد ...  NaN  \n",
       "12186  مدیرکل انجمن اولیا و مربیان وزارت آموزش و پرور...  NaN  "
      ]
     },
     "execution_count": 6,
     "metadata": {},
     "output_type": "execute_result"
    }
   ],
   "source": [
    "df_train[df_train[\"tags\"].isna()]"
   ]
  },
  {
   "cell_type": "code",
   "execution_count": 7,
   "id": "d1cb323c",
   "metadata": {},
   "outputs": [],
   "source": [
    "df_train.dropna(inplace=True)"
   ]
  },
  {
   "cell_type": "code",
   "execution_count": 8,
   "id": "e19cc933",
   "metadata": {},
   "outputs": [
    {
     "data": {
      "text/html": [
       "<div>\n",
       "<style scoped>\n",
       "    .dataframe tbody tr th:only-of-type {\n",
       "        vertical-align: middle;\n",
       "    }\n",
       "\n",
       "    .dataframe tbody tr th {\n",
       "        vertical-align: top;\n",
       "    }\n",
       "\n",
       "    .dataframe thead th {\n",
       "        text-align: right;\n",
       "    }\n",
       "</style>\n",
       "<table border=\"1\" class=\"dataframe\">\n",
       "  <thead>\n",
       "    <tr style=\"text-align: right;\">\n",
       "      <th></th>\n",
       "      <th>description</th>\n",
       "      <th>title</th>\n",
       "    </tr>\n",
       "  </thead>\n",
       "  <tbody>\n",
       "    <tr>\n",
       "      <th>mean</th>\n",
       "      <td>2406.14</td>\n",
       "      <td>62.86</td>\n",
       "    </tr>\n",
       "    <tr>\n",
       "      <th>min</th>\n",
       "      <td>1.00</td>\n",
       "      <td>11.00</td>\n",
       "    </tr>\n",
       "    <tr>\n",
       "      <th>max</th>\n",
       "      <td>55609.00</td>\n",
       "      <td>187.00</td>\n",
       "    </tr>\n",
       "    <tr>\n",
       "      <th>median</th>\n",
       "      <td>1218.00</td>\n",
       "      <td>60.00</td>\n",
       "    </tr>\n",
       "    <tr>\n",
       "      <th>count</th>\n",
       "      <td>12455.00</td>\n",
       "      <td>12455.00</td>\n",
       "    </tr>\n",
       "    <tr>\n",
       "      <th>std</th>\n",
       "      <td>2952.85</td>\n",
       "      <td>19.42</td>\n",
       "    </tr>\n",
       "  </tbody>\n",
       "</table>\n",
       "</div>"
      ],
      "text/plain": [
       "        description     title\n",
       "mean        2406.14     62.86\n",
       "min            1.00     11.00\n",
       "max        55609.00    187.00\n",
       "median      1218.00     60.00\n",
       "count      12455.00  12455.00\n",
       "std         2952.85     19.42"
      ]
     },
     "execution_count": 8,
     "metadata": {},
     "output_type": "execute_result"
    }
   ],
   "source": [
    "df_train[[\"description\", \"title\"]].agg(\n",
    "    lambda x: x.str.len()\n",
    "    .agg(\n",
    "        [\"mean\", \"min\", \"max\", \"median\", \"count\", \"std\"]\n",
    "    )\n",
    ").round(2)"
   ]
  },
  {
   "cell_type": "code",
   "execution_count": 9,
   "id": "2ef57f39",
   "metadata": {},
   "outputs": [
    {
     "data": {
      "text/plain": [
       "9851      1\n",
       "10038     1\n",
       "9756      3\n",
       "9752      3\n",
       "9755      3\n",
       "322      43\n",
       "559      44\n",
       "1381     44\n",
       "200      45\n",
       "551      46\n",
       "337      47\n",
       "1587     49\n",
       "2930     51\n",
       "140      53\n",
       "1316     54\n",
       "Name: description, dtype: int64"
      ]
     },
     "execution_count": 9,
     "metadata": {},
     "output_type": "execute_result"
    }
   ],
   "source": [
    "df_train[\"description\"].str.len().sort_values()[:15]"
   ]
  },
  {
   "cell_type": "code",
   "execution_count": 10,
   "id": "85f3b651",
   "metadata": {},
   "outputs": [
    {
     "data": {
      "text/plain": [
       "9752     . \\n\n",
       "9755     . \\n\n",
       "9756     . \\n\n",
       "9851       \\n\n",
       "10038      \\n\n",
       "Name: description, dtype: object"
      ]
     },
     "execution_count": 10,
     "metadata": {},
     "output_type": "execute_result"
    }
   ],
   "source": [
    "df_train[\"description\"][df_train[\"description\"].str.len().isin([1, 3])]"
   ]
  },
  {
   "cell_type": "code",
   "execution_count": 11,
   "id": "5340a0fa",
   "metadata": {},
   "outputs": [
    {
     "data": {
      "text/plain": [
       "Index([9752, 9755, 9756, 9851, 10038], dtype='int64')"
      ]
     },
     "execution_count": 11,
     "metadata": {},
     "output_type": "execute_result"
    }
   ],
   "source": [
    "invalid_description_index = df_train[\"description\"][df_train[\"description\"].str.len().isin([\n",
    "    1, 3])].index\n",
    "invalid_description_index"
   ]
  },
  {
   "cell_type": "code",
   "execution_count": 12,
   "id": "c088a934",
   "metadata": {},
   "outputs": [],
   "source": [
    "df_train.drop(invalid_description_index,inplace=True)"
   ]
  },
  {
   "cell_type": "code",
   "execution_count": 13,
   "id": "5809c69b",
   "metadata": {},
   "outputs": [
    {
     "data": {
      "text/plain": [
       "(12450, 3)"
      ]
     },
     "execution_count": 13,
     "metadata": {},
     "output_type": "execute_result"
    }
   ],
   "source": [
    "df_train.shape"
   ]
  },
  {
   "cell_type": "markdown",
   "id": "1d48db13",
   "metadata": {},
   "source": [
    "### Create Text data form 'title' and 'description'"
   ]
  },
  {
   "cell_type": "code",
   "execution_count": 14,
   "id": "ffc0375b",
   "metadata": {},
   "outputs": [
    {
     "data": {
      "text/html": [
       "<div>\n",
       "<style scoped>\n",
       "    .dataframe tbody tr th:only-of-type {\n",
       "        vertical-align: middle;\n",
       "    }\n",
       "\n",
       "    .dataframe tbody tr th {\n",
       "        vertical-align: top;\n",
       "    }\n",
       "\n",
       "    .dataframe thead th {\n",
       "        text-align: right;\n",
       "    }\n",
       "</style>\n",
       "<table border=\"1\" class=\"dataframe\">\n",
       "  <thead>\n",
       "    <tr style=\"text-align: right;\">\n",
       "      <th></th>\n",
       "      <th>tags</th>\n",
       "      <th>text</th>\n",
       "    </tr>\n",
       "  </thead>\n",
       "  <tbody>\n",
       "    <tr>\n",
       "      <th>0</th>\n",
       "      <td>استانها</td>\n",
       "      <td>روایتی از تحصیل زیرسقف‌های لرزان و سرمای سوزان...</td>\n",
       "    </tr>\n",
       "    <tr>\n",
       "      <th>1</th>\n",
       "      <td>استانها</td>\n",
       "      <td>انقلابی سرشناس بحرین در گفت‌وگو با تسنیم: مردم...</td>\n",
       "    </tr>\n",
       "    <tr>\n",
       "      <th>2</th>\n",
       "      <td>استانها</td>\n",
       "      <td>‌زندگی مردم در شهر قم ‌جریان دارد / پیشگیری در...</td>\n",
       "    </tr>\n",
       "    <tr>\n",
       "      <th>3</th>\n",
       "      <td>اجتماعی</td>\n",
       "      <td>واکنش &amp;quot;پروفسور کرمی&amp;quot; به دروغ‌پراکنی ...</td>\n",
       "    </tr>\n",
       "    <tr>\n",
       "      <th>4</th>\n",
       "      <td>اقتصادی</td>\n",
       "      <td>مردم نگران تأمین کالاهای موردنیاز خود نباشند/ ...</td>\n",
       "    </tr>\n",
       "    <tr>\n",
       "      <th>...</th>\n",
       "      <td>...</td>\n",
       "      <td>...</td>\n",
       "    </tr>\n",
       "    <tr>\n",
       "      <th>12452</th>\n",
       "      <td>سیاسی</td>\n",
       "      <td>علیرضا زاکانی رئیس مرکز پژوهش‌های مجلس شد به ن...</td>\n",
       "    </tr>\n",
       "    <tr>\n",
       "      <th>12453</th>\n",
       "      <td>سیاسی</td>\n",
       "      <td>قوه قضائیه: تقاضای فرجام در پرونده روح‌الله زم...</td>\n",
       "    </tr>\n",
       "    <tr>\n",
       "      <th>12454</th>\n",
       "      <td>بایگانی</td>\n",
       "      <td>روسیه: ابراز نگرانی لاوروف و ظریف درباره حضور ...</td>\n",
       "    </tr>\n",
       "    <tr>\n",
       "      <th>12455</th>\n",
       "      <td>بایگانی</td>\n",
       "      <td>وزیر خارجه ایران وارد بیروت شد در حالی که اعتر...</td>\n",
       "    </tr>\n",
       "    <tr>\n",
       "      <th>12456</th>\n",
       "      <td>بایگانی</td>\n",
       "      <td>هوشنگ ظریف، استاد موسیقی سنتی ایران درگذشت هوش...</td>\n",
       "    </tr>\n",
       "  </tbody>\n",
       "</table>\n",
       "<p>12450 rows × 2 columns</p>\n",
       "</div>"
      ],
      "text/plain": [
       "          tags                                               text\n",
       "0      استانها  روایتی از تحصیل زیرسقف‌های لرزان و سرمای سوزان...\n",
       "1      استانها  انقلابی سرشناس بحرین در گفت‌وگو با تسنیم: مردم...\n",
       "2      استانها  ‌زندگی مردم در شهر قم ‌جریان دارد / پیشگیری در...\n",
       "3      اجتماعی  واکنش &quot;پروفسور کرمی&quot; به دروغ‌پراکنی ...\n",
       "4      اقتصادی  مردم نگران تأمین کالاهای موردنیاز خود نباشند/ ...\n",
       "...        ...                                                ...\n",
       "12452    سیاسی  علیرضا زاکانی رئیس مرکز پژوهش‌های مجلس شد به ن...\n",
       "12453    سیاسی  قوه قضائیه: تقاضای فرجام در پرونده روح‌الله زم...\n",
       "12454  بایگانی  روسیه: ابراز نگرانی لاوروف و ظریف درباره حضور ...\n",
       "12455  بایگانی  وزیر خارجه ایران وارد بیروت شد در حالی که اعتر...\n",
       "12456  بایگانی  هوشنگ ظریف، استاد موسیقی سنتی ایران درگذشت هوش...\n",
       "\n",
       "[12450 rows x 2 columns]"
      ]
     },
     "execution_count": 14,
     "metadata": {},
     "output_type": "execute_result"
    }
   ],
   "source": [
    "df_train[\"text\"] = df_train[\"title\"] + \" \" + df_train[\"description\"].str.strip()\n",
    "df_train.drop(columns=[\"title\",\"description\"],inplace=True)\n",
    "df_train"
   ]
  },
  {
   "cell_type": "code",
   "execution_count": 15,
   "id": "26eb0a9a",
   "metadata": {},
   "outputs": [
    {
     "data": {
      "text/plain": [
       "tags\n",
       "بایگانی                 1943\n",
       "جهان                    1657\n",
       "ایران                   1188\n",
       "بین الملل                972\n",
       "سیاسی                    921\n",
       "                        ... \n",
       "دوره‌های زبان آلمانی       1\n",
       "الشرق الأوسط               1\n",
       "بازار                      1\n",
       "ویدئو > گزارش              1\n",
       "دویچه وله                  1\n",
       "Name: count, Length: 100, dtype: int64"
      ]
     },
     "execution_count": 15,
     "metadata": {},
     "output_type": "execute_result"
    }
   ],
   "source": [
    "df_train[\"tags\"].value_counts()"
   ]
  },
  {
   "cell_type": "markdown",
   "id": "d480d0c9",
   "metadata": {},
   "source": [
    "##### remove unnesesery column type "
   ]
  },
  {
   "cell_type": "code",
   "execution_count": 16,
   "id": "27366e44",
   "metadata": {},
   "outputs": [],
   "source": [
    "df_train = df_train[df_train[\"tags\"]!=\"بایگانی\"]"
   ]
  },
  {
   "cell_type": "code",
   "execution_count": 17,
   "id": "f5c3fa10",
   "metadata": {},
   "outputs": [
    {
     "data": {
      "text/html": [
       "<div>\n",
       "<style scoped>\n",
       "    .dataframe tbody tr th:only-of-type {\n",
       "        vertical-align: middle;\n",
       "    }\n",
       "\n",
       "    .dataframe tbody tr th {\n",
       "        vertical-align: top;\n",
       "    }\n",
       "\n",
       "    .dataframe thead th {\n",
       "        text-align: right;\n",
       "    }\n",
       "</style>\n",
       "<table border=\"1\" class=\"dataframe\">\n",
       "  <thead>\n",
       "    <tr style=\"text-align: right;\">\n",
       "      <th></th>\n",
       "      <th>tags</th>\n",
       "      <th>text</th>\n",
       "    </tr>\n",
       "  </thead>\n",
       "  <tbody>\n",
       "    <tr>\n",
       "      <th>0</th>\n",
       "      <td>استانها</td>\n",
       "      <td>روایتی از تحصیل زیرسقف‌های لرزان و سرمای سوزان...</td>\n",
       "    </tr>\n",
       "    <tr>\n",
       "      <th>1</th>\n",
       "      <td>استانها</td>\n",
       "      <td>انقلابی سرشناس بحرین در گفت‌وگو با تسنیم: مردم...</td>\n",
       "    </tr>\n",
       "    <tr>\n",
       "      <th>2</th>\n",
       "      <td>استانها</td>\n",
       "      <td>‌زندگی مردم در شهر قم ‌جریان دارد / پیشگیری در...</td>\n",
       "    </tr>\n",
       "    <tr>\n",
       "      <th>3</th>\n",
       "      <td>اجتماعی</td>\n",
       "      <td>واکنش &amp;quot;پروفسور کرمی&amp;quot; به دروغ‌پراکنی ...</td>\n",
       "    </tr>\n",
       "    <tr>\n",
       "      <th>4</th>\n",
       "      <td>اقتصادی</td>\n",
       "      <td>مردم نگران تأمین کالاهای موردنیاز خود نباشند/ ...</td>\n",
       "    </tr>\n",
       "  </tbody>\n",
       "</table>\n",
       "</div>"
      ],
      "text/plain": [
       "      tags                                               text\n",
       "0  استانها  روایتی از تحصیل زیرسقف‌های لرزان و سرمای سوزان...\n",
       "1  استانها  انقلابی سرشناس بحرین در گفت‌وگو با تسنیم: مردم...\n",
       "2  استانها  ‌زندگی مردم در شهر قم ‌جریان دارد / پیشگیری در...\n",
       "3  اجتماعی  واکنش &quot;پروفسور کرمی&quot; به دروغ‌پراکنی ...\n",
       "4  اقتصادی  مردم نگران تأمین کالاهای موردنیاز خود نباشند/ ..."
      ]
     },
     "execution_count": 17,
     "metadata": {},
     "output_type": "execute_result"
    }
   ],
   "source": [
    "df_train.head()"
   ]
  },
  {
   "cell_type": "markdown",
   "id": "f9fc6f24",
   "metadata": {},
   "source": [
    "### Text Cleaning"
   ]
  },
  {
   "cell_type": "code",
   "execution_count": 18,
   "id": "9452acf0",
   "metadata": {},
   "outputs": [
    {
     "data": {
      "text/html": [
       "<div>\n",
       "<style scoped>\n",
       "    .dataframe tbody tr th:only-of-type {\n",
       "        vertical-align: middle;\n",
       "    }\n",
       "\n",
       "    .dataframe tbody tr th {\n",
       "        vertical-align: top;\n",
       "    }\n",
       "\n",
       "    .dataframe thead th {\n",
       "        text-align: right;\n",
       "    }\n",
       "</style>\n",
       "<table border=\"1\" class=\"dataframe\">\n",
       "  <thead>\n",
       "    <tr style=\"text-align: right;\">\n",
       "      <th></th>\n",
       "      <th>tags</th>\n",
       "      <th>text</th>\n",
       "    </tr>\n",
       "  </thead>\n",
       "  <tbody>\n",
       "    <tr>\n",
       "      <th>3</th>\n",
       "      <td>اجتماعی</td>\n",
       "      <td>واکنش &amp;quot;پروفسور کرمی&amp;quot; به دروغ‌پراکنی ...</td>\n",
       "    </tr>\n",
       "    <tr>\n",
       "      <th>18</th>\n",
       "      <td>سیاسی</td>\n",
       "      <td>بررسی صلاحیت &amp;quot;خاوازی&amp;quot; در کمیسیون کشا...</td>\n",
       "    </tr>\n",
       "    <tr>\n",
       "      <th>33</th>\n",
       "      <td>اجتماعی</td>\n",
       "      <td>تقلا برای ایجاد ناامنی روانی در جامعه؛‌ ویروس ...</td>\n",
       "    </tr>\n",
       "    <tr>\n",
       "      <th>77</th>\n",
       "      <td>اجتماعی</td>\n",
       "      <td>&amp;quot;تلویزیون&amp;quot; مدرسه دانش‌آموزان شد آموز...</td>\n",
       "    </tr>\n",
       "    <tr>\n",
       "      <th>85</th>\n",
       "      <td>سیاسی</td>\n",
       "      <td>روحانی : همه دولت‌های جهان باید برای مقابله &amp;q...</td>\n",
       "    </tr>\n",
       "    <tr>\n",
       "      <th>...</th>\n",
       "      <td>...</td>\n",
       "      <td>...</td>\n",
       "    </tr>\n",
       "    <tr>\n",
       "      <th>6426</th>\n",
       "      <td>ایران</td>\n",
       "      <td>\"۶۲ درصد اقلیت‌های جنسی قربانی خشونت در خانواد...</td>\n",
       "    </tr>\n",
       "    <tr>\n",
       "      <th>6427</th>\n",
       "      <td>جهان</td>\n",
       "      <td>۷۵مین سالروز هیروشیما: فاجعه‌ای که هرگز نباید ...</td>\n",
       "    </tr>\n",
       "    <tr>\n",
       "      <th>6428</th>\n",
       "      <td>آلمان</td>\n",
       "      <td>۷۵مین سالگرد پایان جنگ جهانی دوم؛ بحث ها بر سر...</td>\n",
       "    </tr>\n",
       "    <tr>\n",
       "      <th>6429</th>\n",
       "      <td>آلمان</td>\n",
       "      <td>۷۵مین سالگرد پایان جنگ جهانی دوم؛ روز رهایی یا...</td>\n",
       "    </tr>\n",
       "    <tr>\n",
       "      <th>6430</th>\n",
       "      <td>جهان</td>\n",
       "      <td>۹ کشته در حمله اسرائیل \"به محل حضور نیروهای ای...</td>\n",
       "    </tr>\n",
       "  </tbody>\n",
       "</table>\n",
       "<p>3065 rows × 2 columns</p>\n",
       "</div>"
      ],
      "text/plain": [
       "         tags                                               text\n",
       "3     اجتماعی  واکنش &quot;پروفسور کرمی&quot; به دروغ‌پراکنی ...\n",
       "18      سیاسی  بررسی صلاحیت &quot;خاوازی&quot; در کمیسیون کشا...\n",
       "33    اجتماعی  تقلا برای ایجاد ناامنی روانی در جامعه؛‌ ویروس ...\n",
       "77    اجتماعی  &quot;تلویزیون&quot; مدرسه دانش‌آموزان شد آموز...\n",
       "85      سیاسی  روحانی : همه دولت‌های جهان باید برای مقابله &q...\n",
       "...       ...                                                ...\n",
       "6426    ایران  \"۶۲ درصد اقلیت‌های جنسی قربانی خشونت در خانواد...\n",
       "6427     جهان  ۷۵مین سالروز هیروشیما: فاجعه‌ای که هرگز نباید ...\n",
       "6428    آلمان  ۷۵مین سالگرد پایان جنگ جهانی دوم؛ بحث ها بر سر...\n",
       "6429    آلمان  ۷۵مین سالگرد پایان جنگ جهانی دوم؛ روز رهایی یا...\n",
       "6430     جهان  ۹ کشته در حمله اسرائیل \"به محل حضور نیروهای ای...\n",
       "\n",
       "[3065 rows x 2 columns]"
      ]
     },
     "execution_count": 18,
     "metadata": {},
     "output_type": "execute_result"
    }
   ],
   "source": [
    "df_train[df_train[\"text\"].str.contains(\"&quot\")]"
   ]
  },
  {
   "cell_type": "code",
   "execution_count": 19,
   "id": "7fbdd207",
   "metadata": {},
   "outputs": [],
   "source": [
    "df_train.loc[:,\"text\"]=df_train.loc[:,\"text\"].str.replace(\"&quot\",\" \")"
   ]
  },
  {
   "cell_type": "code",
   "execution_count": 20,
   "id": "2f2ddcad",
   "metadata": {},
   "outputs": [
    {
     "data": {
      "text/html": [
       "<div>\n",
       "<style scoped>\n",
       "    .dataframe tbody tr th:only-of-type {\n",
       "        vertical-align: middle;\n",
       "    }\n",
       "\n",
       "    .dataframe tbody tr th {\n",
       "        vertical-align: top;\n",
       "    }\n",
       "\n",
       "    .dataframe thead th {\n",
       "        text-align: right;\n",
       "    }\n",
       "</style>\n",
       "<table border=\"1\" class=\"dataframe\">\n",
       "  <thead>\n",
       "    <tr style=\"text-align: right;\">\n",
       "      <th></th>\n",
       "      <th>tags</th>\n",
       "      <th>text</th>\n",
       "    </tr>\n",
       "  </thead>\n",
       "  <tbody>\n",
       "    <tr>\n",
       "      <th>0</th>\n",
       "      <td>استانها</td>\n",
       "      <td>روایتی از تحصیل زیرسقف‌های لرزان و سرمای سوزان...</td>\n",
       "    </tr>\n",
       "    <tr>\n",
       "      <th>1</th>\n",
       "      <td>استانها</td>\n",
       "      <td>انقلابی سرشناس بحرین در گفت‌وگو با تسنیم: مردم...</td>\n",
       "    </tr>\n",
       "    <tr>\n",
       "      <th>2</th>\n",
       "      <td>استانها</td>\n",
       "      <td>‌زندگی مردم در شهر قم ‌جریان دارد / پیشگیری در...</td>\n",
       "    </tr>\n",
       "    <tr>\n",
       "      <th>3</th>\n",
       "      <td>اجتماعی</td>\n",
       "      <td>واکنش  ;پروفسور کرمی ; به دروغ‌پراکنی برخی رسا...</td>\n",
       "    </tr>\n",
       "    <tr>\n",
       "      <th>4</th>\n",
       "      <td>اقتصادی</td>\n",
       "      <td>مردم نگران تأمین کالاهای موردنیاز خود نباشند/ ...</td>\n",
       "    </tr>\n",
       "  </tbody>\n",
       "</table>\n",
       "</div>"
      ],
      "text/plain": [
       "      tags                                               text\n",
       "0  استانها  روایتی از تحصیل زیرسقف‌های لرزان و سرمای سوزان...\n",
       "1  استانها  انقلابی سرشناس بحرین در گفت‌وگو با تسنیم: مردم...\n",
       "2  استانها  ‌زندگی مردم در شهر قم ‌جریان دارد / پیشگیری در...\n",
       "3  اجتماعی  واکنش  ;پروفسور کرمی ; به دروغ‌پراکنی برخی رسا...\n",
       "4  اقتصادی  مردم نگران تأمین کالاهای موردنیاز خود نباشند/ ..."
      ]
     },
     "execution_count": 20,
     "metadata": {},
     "output_type": "execute_result"
    }
   ],
   "source": [
    "df_train.head()"
   ]
  },
  {
   "cell_type": "code",
   "execution_count": 21,
   "id": "32be1bf6",
   "metadata": {},
   "outputs": [],
   "source": [
    "PERSIAN_MAP = str.maketrans({\n",
    "    \"ك\": \"ک\", \"ي\": \"ی\",\n",
    "    \"ة\": \"ه\", \"ؤ\": \"و\", \"إ\": \"ا\", \"أ\": \"ا\", \"ٱ\": \"ا\"\n",
    "})\n",
    "html_tag_re = re.compile(r\"<[^>]+>\")\n",
    "extra_space_re = re.compile(r\"\\s+\")\n",
    "url_re = re.compile(r\"https?://\\S+|www\\.\\S+\")\n",
    "mention_re = re.compile(r\"[@#]\\S+\")\n",
    "digit_re = re.compile(r\"\\d+\")"
   ]
  },
  {
   "cell_type": "code",
   "execution_count": 35,
   "id": "5698c039",
   "metadata": {},
   "outputs": [],
   "source": [
    "def clean_text(s:str)->str:\n",
    "    s = str(s)\n",
    "    s=s.translate(PERSIAN_MAP)\n",
    "    s = html_tag_re.sub(\" \",s)\n",
    "    s = url_re.sub(\" \",s)\n",
    "    s = mention_re.sub(\" \",s)\n",
    "    s = digit_re.sub(\" \",s)\n",
    "    s = re.sub(r\"[^\\w\\s\\u0600-\\u06FF]\",\" \",s)\n",
    "    s = extra_space_re.sub(\" \",s).strip()\n",
    "    return s\n",
    "\n",
    "df_train.loc[:,\"clean_text\"] = df_train[\"text\"].map(clean_text)"
   ]
  },
  {
   "cell_type": "code",
   "execution_count": 23,
   "id": "146a4f01",
   "metadata": {},
   "outputs": [
    {
     "data": {
      "text/html": [
       "<div>\n",
       "<style scoped>\n",
       "    .dataframe tbody tr th:only-of-type {\n",
       "        vertical-align: middle;\n",
       "    }\n",
       "\n",
       "    .dataframe tbody tr th {\n",
       "        vertical-align: top;\n",
       "    }\n",
       "\n",
       "    .dataframe thead th {\n",
       "        text-align: right;\n",
       "    }\n",
       "</style>\n",
       "<table border=\"1\" class=\"dataframe\">\n",
       "  <thead>\n",
       "    <tr style=\"text-align: right;\">\n",
       "      <th></th>\n",
       "      <th>tags</th>\n",
       "      <th>text</th>\n",
       "      <th>clean_text</th>\n",
       "    </tr>\n",
       "  </thead>\n",
       "  <tbody>\n",
       "    <tr>\n",
       "      <th>0</th>\n",
       "      <td>استانها</td>\n",
       "      <td>روایتی از تحصیل زیرسقف‌های لرزان و سرمای سوزان...</td>\n",
       "      <td>روایتی از تحصیل زیرسقف های لرزان و سرمای سوزان...</td>\n",
       "    </tr>\n",
       "    <tr>\n",
       "      <th>1</th>\n",
       "      <td>استانها</td>\n",
       "      <td>انقلابی سرشناس بحرین در گفت‌وگو با تسنیم: مردم...</td>\n",
       "      <td>انقلابی سرشناس بحرین در گفت وگو با تسنیم مردم ...</td>\n",
       "    </tr>\n",
       "    <tr>\n",
       "      <th>2</th>\n",
       "      <td>استانها</td>\n",
       "      <td>‌زندگی مردم در شهر قم ‌جریان دارد / پیشگیری در...</td>\n",
       "      <td>زندگی مردم در شهر قم جریان دارد پیشگیری در اول...</td>\n",
       "    </tr>\n",
       "    <tr>\n",
       "      <th>3</th>\n",
       "      <td>اجتماعی</td>\n",
       "      <td>واکنش  ;پروفسور کرمی ; به دروغ‌پراکنی برخی رسا...</td>\n",
       "      <td>واکنش پروفسور کرمی به دروغ پراکنی برخی رسانه ه...</td>\n",
       "    </tr>\n",
       "    <tr>\n",
       "      <th>4</th>\n",
       "      <td>اقتصادی</td>\n",
       "      <td>مردم نگران تأمین کالاهای موردنیاز خود نباشند/ ...</td>\n",
       "      <td>مردم نگران تامین کالاهای موردنیاز خود نباشند م...</td>\n",
       "    </tr>\n",
       "  </tbody>\n",
       "</table>\n",
       "</div>"
      ],
      "text/plain": [
       "      tags                                               text  \\\n",
       "0  استانها  روایتی از تحصیل زیرسقف‌های لرزان و سرمای سوزان...   \n",
       "1  استانها  انقلابی سرشناس بحرین در گفت‌وگو با تسنیم: مردم...   \n",
       "2  استانها  ‌زندگی مردم در شهر قم ‌جریان دارد / پیشگیری در...   \n",
       "3  اجتماعی  واکنش  ;پروفسور کرمی ; به دروغ‌پراکنی برخی رسا...   \n",
       "4  اقتصادی  مردم نگران تأمین کالاهای موردنیاز خود نباشند/ ...   \n",
       "\n",
       "                                          clean_text  \n",
       "0  روایتی از تحصیل زیرسقف های لرزان و سرمای سوزان...  \n",
       "1  انقلابی سرشناس بحرین در گفت وگو با تسنیم مردم ...  \n",
       "2  زندگی مردم در شهر قم جریان دارد پیشگیری در اول...  \n",
       "3  واکنش پروفسور کرمی به دروغ پراکنی برخی رسانه ه...  \n",
       "4  مردم نگران تامین کالاهای موردنیاز خود نباشند م...  "
      ]
     },
     "execution_count": 23,
     "metadata": {},
     "output_type": "execute_result"
    }
   ],
   "source": [
    "df_train.head()"
   ]
  },
  {
   "cell_type": "code",
   "execution_count": 24,
   "id": "4705dbf7",
   "metadata": {},
   "outputs": [],
   "source": [
    "normalizer = Normalizer()\n",
    "stopwords = set(stopwords_list())\n",
    "\n",
    "\n",
    "def clean_text_hazm(s:str)->str:\n",
    "    s = clean_text(s)\n",
    "    s = normalizer.normalize(s)\n",
    "    tokens = [t for t in word_tokenize(s) if t not in stopwords and len(t) > 1]\n",
    "    return \" \".join(tokens)\n",
    "\n"
   ]
  },
  {
   "cell_type": "code",
   "execution_count": 34,
   "id": "0843605d",
   "metadata": {},
   "outputs": [],
   "source": [
    "df_train.loc[:,\"final_text\"]= df_train[\"clean_text\"].map(clean_text_hazm)"
   ]
  },
  {
   "cell_type": "code",
   "execution_count": 26,
   "id": "fc6c1d70",
   "metadata": {},
   "outputs": [
    {
     "data": {
      "text/html": [
       "<div>\n",
       "<style scoped>\n",
       "    .dataframe tbody tr th:only-of-type {\n",
       "        vertical-align: middle;\n",
       "    }\n",
       "\n",
       "    .dataframe tbody tr th {\n",
       "        vertical-align: top;\n",
       "    }\n",
       "\n",
       "    .dataframe thead th {\n",
       "        text-align: right;\n",
       "    }\n",
       "</style>\n",
       "<table border=\"1\" class=\"dataframe\">\n",
       "  <thead>\n",
       "    <tr style=\"text-align: right;\">\n",
       "      <th></th>\n",
       "      <th>tags</th>\n",
       "      <th>text</th>\n",
       "      <th>clean_text</th>\n",
       "      <th>final_text</th>\n",
       "    </tr>\n",
       "  </thead>\n",
       "  <tbody>\n",
       "    <tr>\n",
       "      <th>0</th>\n",
       "      <td>استانها</td>\n",
       "      <td>روایتی از تحصیل زیرسقف‌های لرزان و سرمای سوزان...</td>\n",
       "      <td>روایتی از تحصیل زیرسقف های لرزان و سرمای سوزان...</td>\n",
       "      <td>روایتی تحصیل زیرسقف‌های لرزان سرمای سوزان دانش...</td>\n",
       "    </tr>\n",
       "    <tr>\n",
       "      <th>1</th>\n",
       "      <td>استانها</td>\n",
       "      <td>انقلابی سرشناس بحرین در گفت‌وگو با تسنیم: مردم...</td>\n",
       "      <td>انقلابی سرشناس بحرین در گفت وگو با تسنیم مردم ...</td>\n",
       "      <td>انقلابی سرشناس بحرین گفت‌وگو تسنیم مردم منطقه ...</td>\n",
       "    </tr>\n",
       "    <tr>\n",
       "      <th>2</th>\n",
       "      <td>استانها</td>\n",
       "      <td>‌زندگی مردم در شهر قم ‌جریان دارد / پیشگیری در...</td>\n",
       "      <td>زندگی مردم در شهر قم جریان دارد پیشگیری در اول...</td>\n",
       "      <td>زندگی مردم شهر قم پیشگیری اولویت مردم قرار تصا...</td>\n",
       "    </tr>\n",
       "    <tr>\n",
       "      <th>3</th>\n",
       "      <td>اجتماعی</td>\n",
       "      <td>واکنش  ;پروفسور کرمی ; به دروغ‌پراکنی برخی رسا...</td>\n",
       "      <td>واکنش پروفسور کرمی به دروغ پراکنی برخی رسانه ه...</td>\n",
       "      <td>واکنش پروفسور کرمی دروغ‌پراکنی رسانه‌ها القای ...</td>\n",
       "    </tr>\n",
       "    <tr>\n",
       "      <th>4</th>\n",
       "      <td>اقتصادی</td>\n",
       "      <td>مردم نگران تأمین کالاهای موردنیاز خود نباشند/ ...</td>\n",
       "      <td>مردم نگران تامین کالاهای موردنیاز خود نباشند م...</td>\n",
       "      <td>مردم نگران تامین کالاهای موردنیاز نباشند میزان...</td>\n",
       "    </tr>\n",
       "  </tbody>\n",
       "</table>\n",
       "</div>"
      ],
      "text/plain": [
       "      tags                                               text  \\\n",
       "0  استانها  روایتی از تحصیل زیرسقف‌های لرزان و سرمای سوزان...   \n",
       "1  استانها  انقلابی سرشناس بحرین در گفت‌وگو با تسنیم: مردم...   \n",
       "2  استانها  ‌زندگی مردم در شهر قم ‌جریان دارد / پیشگیری در...   \n",
       "3  اجتماعی  واکنش  ;پروفسور کرمی ; به دروغ‌پراکنی برخی رسا...   \n",
       "4  اقتصادی  مردم نگران تأمین کالاهای موردنیاز خود نباشند/ ...   \n",
       "\n",
       "                                          clean_text  \\\n",
       "0  روایتی از تحصیل زیرسقف های لرزان و سرمای سوزان...   \n",
       "1  انقلابی سرشناس بحرین در گفت وگو با تسنیم مردم ...   \n",
       "2  زندگی مردم در شهر قم جریان دارد پیشگیری در اول...   \n",
       "3  واکنش پروفسور کرمی به دروغ پراکنی برخی رسانه ه...   \n",
       "4  مردم نگران تامین کالاهای موردنیاز خود نباشند م...   \n",
       "\n",
       "                                          final_text  \n",
       "0  روایتی تحصیل زیرسقف‌های لرزان سرمای سوزان دانش...  \n",
       "1  انقلابی سرشناس بحرین گفت‌وگو تسنیم مردم منطقه ...  \n",
       "2  زندگی مردم شهر قم پیشگیری اولویت مردم قرار تصا...  \n",
       "3  واکنش پروفسور کرمی دروغ‌پراکنی رسانه‌ها القای ...  \n",
       "4  مردم نگران تامین کالاهای موردنیاز نباشند میزان...  "
      ]
     },
     "execution_count": 26,
     "metadata": {},
     "output_type": "execute_result"
    }
   ],
   "source": [
    "df_train.head()"
   ]
  },
  {
   "cell_type": "code",
   "execution_count": 29,
   "id": "5bcc68e0",
   "metadata": {},
   "outputs": [
    {
     "data": {
      "text/plain": [
       "[('zwnj', 57061),\n",
       " ('می\\u200czwnj', 28057),\n",
       " ('ایران', 24762),\n",
       " ('zwnj\\u200cهای', 23330),\n",
       " ('کرونا', 22220),\n",
       " ('کشور', 18473),\n",
       " ('آمریکا', 13843),\n",
       " ('سال', 13635),\n",
       " ('zwnj\\u200cها', 12181),\n",
       " ('روز', 11250),\n",
       " ('دولت', 10692),\n",
       " ('ویروس', 10008),\n",
       " ('مردم', 9939),\n",
       " ('هزار', 8944),\n",
       " ('گزارش', 8898),\n",
       " ('قرار', 8882),\n",
       " ('نفر', 8760),\n",
       " ('سازمان', 8366),\n",
       " ('اعلام', 8291),\n",
       " ('اسلامی', 7898)]"
      ]
     },
     "execution_count": 29,
     "metadata": {},
     "output_type": "execute_result"
    }
   ],
   "source": [
    "Counter(\" \".join(df_train[\"final_text\"]).split()).most_common(20)"
   ]
  },
  {
   "cell_type": "markdown",
   "id": "6aa82f96",
   "metadata": {},
   "source": [
    "#### remove \\u200c , \\u200d after normalize and remove stop word they comes"
   ]
  },
  {
   "cell_type": "code",
   "execution_count": 33,
   "id": "8efb0193",
   "metadata": {},
   "outputs": [],
   "source": [
    "def clean_zwnj(text: str) -> str:\n",
    "    # حذف نیم‌فاصله‌ی یونیکد\n",
    "    text = text.replace(\"\\u200c\", \"\")\n",
    "    text = text.replace(\"\\u200d\", \"\")\n",
    "    # حذف رشته‌ی \"zwnj\" اگر به‌صورت متن مونده\n",
    "    text = text.replace(\"zwnj\", \"\")\n",
    "    return text\n",
    "\n",
    "df_train.loc[:, \"final_text\"] = df_train[\"final_text\"].map(clean_zwnj)"
   ]
  },
  {
   "cell_type": "code",
   "execution_count": 32,
   "id": "acaf575e",
   "metadata": {},
   "outputs": [
    {
     "data": {
      "text/html": [
       "<div>\n",
       "<style scoped>\n",
       "    .dataframe tbody tr th:only-of-type {\n",
       "        vertical-align: middle;\n",
       "    }\n",
       "\n",
       "    .dataframe tbody tr th {\n",
       "        vertical-align: top;\n",
       "    }\n",
       "\n",
       "    .dataframe thead th {\n",
       "        text-align: right;\n",
       "    }\n",
       "</style>\n",
       "<table border=\"1\" class=\"dataframe\">\n",
       "  <thead>\n",
       "    <tr style=\"text-align: right;\">\n",
       "      <th></th>\n",
       "      <th>tags</th>\n",
       "      <th>text</th>\n",
       "      <th>clean_text</th>\n",
       "      <th>final_text</th>\n",
       "    </tr>\n",
       "  </thead>\n",
       "  <tbody>\n",
       "    <tr>\n",
       "      <th>0</th>\n",
       "      <td>استانها</td>\n",
       "      <td>روایتی از تحصیل زیرسقف‌های لرزان و سرمای سوزان...</td>\n",
       "      <td>روایتی از تحصیل زیرسقف های لرزان و سرمای سوزان...</td>\n",
       "      <td>روایتی تحصیل زیرسقفهای لرزان سرمای سوزان دانش ...</td>\n",
       "    </tr>\n",
       "    <tr>\n",
       "      <th>1</th>\n",
       "      <td>استانها</td>\n",
       "      <td>انقلابی سرشناس بحرین در گفت‌وگو با تسنیم: مردم...</td>\n",
       "      <td>انقلابی سرشناس بحرین در گفت وگو با تسنیم مردم ...</td>\n",
       "      <td>انقلابی سرشناس بحرین گفتوگو تسنیم مردم منطقه پ...</td>\n",
       "    </tr>\n",
       "    <tr>\n",
       "      <th>2</th>\n",
       "      <td>استانها</td>\n",
       "      <td>‌زندگی مردم در شهر قم ‌جریان دارد / پیشگیری در...</td>\n",
       "      <td>زندگی مردم در شهر قم جریان دارد پیشگیری در اول...</td>\n",
       "      <td>زندگی مردم شهر قم پیشگیری اولویت مردم قرار تصا...</td>\n",
       "    </tr>\n",
       "    <tr>\n",
       "      <th>3</th>\n",
       "      <td>اجتماعی</td>\n",
       "      <td>واکنش  ;پروفسور کرمی ; به دروغ‌پراکنی برخی رسا...</td>\n",
       "      <td>واکنش پروفسور کرمی به دروغ پراکنی برخی رسانه ه...</td>\n",
       "      <td>واکنش پروفسور کرمی دروغپراکنی رسانهها القای تر...</td>\n",
       "    </tr>\n",
       "    <tr>\n",
       "      <th>4</th>\n",
       "      <td>اقتصادی</td>\n",
       "      <td>مردم نگران تأمین کالاهای موردنیاز خود نباشند/ ...</td>\n",
       "      <td>مردم نگران تامین کالاهای موردنیاز خود نباشند م...</td>\n",
       "      <td>مردم نگران تامین کالاهای موردنیاز نباشند میزان...</td>\n",
       "    </tr>\n",
       "  </tbody>\n",
       "</table>\n",
       "</div>"
      ],
      "text/plain": [
       "      tags                                               text  \\\n",
       "0  استانها  روایتی از تحصیل زیرسقف‌های لرزان و سرمای سوزان...   \n",
       "1  استانها  انقلابی سرشناس بحرین در گفت‌وگو با تسنیم: مردم...   \n",
       "2  استانها  ‌زندگی مردم در شهر قم ‌جریان دارد / پیشگیری در...   \n",
       "3  اجتماعی  واکنش  ;پروفسور کرمی ; به دروغ‌پراکنی برخی رسا...   \n",
       "4  اقتصادی  مردم نگران تأمین کالاهای موردنیاز خود نباشند/ ...   \n",
       "\n",
       "                                          clean_text  \\\n",
       "0  روایتی از تحصیل زیرسقف های لرزان و سرمای سوزان...   \n",
       "1  انقلابی سرشناس بحرین در گفت وگو با تسنیم مردم ...   \n",
       "2  زندگی مردم در شهر قم جریان دارد پیشگیری در اول...   \n",
       "3  واکنش پروفسور کرمی به دروغ پراکنی برخی رسانه ه...   \n",
       "4  مردم نگران تامین کالاهای موردنیاز خود نباشند م...   \n",
       "\n",
       "                                          final_text  \n",
       "0  روایتی تحصیل زیرسقفهای لرزان سرمای سوزان دانش ...  \n",
       "1  انقلابی سرشناس بحرین گفتوگو تسنیم مردم منطقه پ...  \n",
       "2  زندگی مردم شهر قم پیشگیری اولویت مردم قرار تصا...  \n",
       "3  واکنش پروفسور کرمی دروغپراکنی رسانهها القای تر...  \n",
       "4  مردم نگران تامین کالاهای موردنیاز نباشند میزان...  "
      ]
     },
     "execution_count": 32,
     "metadata": {},
     "output_type": "execute_result"
    }
   ],
   "source": [
    "df_train.head()"
   ]
  },
  {
   "cell_type": "markdown",
   "id": "454c3256",
   "metadata": {},
   "source": [
    "#### Working on tags labels"
   ]
  },
  {
   "cell_type": "code",
   "execution_count": 36,
   "id": "460e4f97",
   "metadata": {},
   "outputs": [
    {
     "data": {
      "text/plain": [
       "0        استانها\n",
       "1        استانها\n",
       "2        استانها\n",
       "3        اجتماعی\n",
       "4        اقتصادی\n",
       "          ...   \n",
       "12429    خبرخوان\n",
       "12441      سیاسی\n",
       "12447    اجتماعی\n",
       "12452      سیاسی\n",
       "12453      سیاسی\n",
       "Name: tags, Length: 10507, dtype: object"
      ]
     },
     "execution_count": 36,
     "metadata": {},
     "output_type": "execute_result"
    }
   ],
   "source": [
    "df_train[\"tags\"]"
   ]
  },
  {
   "cell_type": "code",
   "execution_count": 37,
   "id": "ee0a61f1",
   "metadata": {},
   "outputs": [
    {
     "name": "stderr",
     "output_type": "stream",
     "text": [
      "/tmp/ipykernel_24427/79702925.py:8: SettingWithCopyWarning: \n",
      "A value is trying to be set on a copy of a slice from a DataFrame.\n",
      "Try using .loc[row_indexer,col_indexer] = value instead\n",
      "\n",
      "See the caveats in the documentation: https://pandas.pydata.org/pandas-docs/stable/user_guide/indexing.html#returning-a-view-versus-a-copy\n",
      "  df_train[\"tag_clean\"] = df_train[\"tags\"].map(norm_tag)\n"
     ]
    }
   ],
   "source": [
    "def norm_tag(s):\n",
    "    if pd.isna(s): return \"\"\n",
    "    s = str(s)\n",
    "    s = s.replace(\"ي\",\"ی\").replace(\"ك\",\"ک\").replace(\"\\u200c\",\"\")  # ی/ک و حذف نیم‌فاصله\n",
    "    s = re.sub(r\"\\s+\", \" \", s).strip()\n",
    "    return s\n",
    "\n",
    "df_train[\"tag_clean\"] = df_train[\"tags\"].map(norm_tag)"
   ]
  },
  {
   "cell_type": "code",
   "execution_count": 38,
   "id": "e9fd9ba9",
   "metadata": {},
   "outputs": [
    {
     "data": {
      "text/plain": [
       "0        استانها\n",
       "1        استانها\n",
       "2        استانها\n",
       "3        اجتماعی\n",
       "4        اقتصادی\n",
       "          ...   \n",
       "12429    خبرخوان\n",
       "12441      سیاسی\n",
       "12447    اجتماعی\n",
       "12452      سیاسی\n",
       "12453      سیاسی\n",
       "Name: tag_clean, Length: 10507, dtype: object"
      ]
     },
     "execution_count": 38,
     "metadata": {},
     "output_type": "execute_result"
    }
   ],
   "source": [
    "df_train[\"tag_clean\"]"
   ]
  },
  {
   "cell_type": "code",
   "execution_count": 39,
   "id": "7c0867b2",
   "metadata": {},
   "outputs": [
    {
     "name": "stdout",
     "output_type": "stream",
     "text": [
      "tag_clean\n",
      "جهان                                    1657\n",
      "ایران                                   1208\n",
      "بین الملل                                972\n",
      "سیاسی                                    921\n",
      "سیاسی > دولت                             506\n",
      "اجتماعی                                  493\n",
      "اقتصادی                                  478\n",
      "استانها                                  433\n",
      "سیاسی > سیاست خارجی                      418\n",
      "اجتماعی > سلامت                          407\n",
      "آلمان                                    310\n",
      "سیاسی > مجلس                             266\n",
      "سیاسی > سیاست داخلی                      261\n",
      "دانش و محیط زیست                         203\n",
      "سیاسی > حقوقی و قضایی                    166\n",
      "اقتصاد                                   133\n",
      "فرهنگی                                   126\n",
      "سیاسی > دفاعی - امنیتی                   110\n",
      "اقتصادی > اقتصاد کلان                    108\n",
      "اجتماعی > حوادث، انتظامی                  79\n",
      "فرهنگ و هنر                               75\n",
      "ورزشی > فوتبال، فوتسال                    68\n",
      "علمی و دانشگاهی > آموزش                   67\n",
      "اقتصادی > تولید و تجارت                   63\n",
      "اجتماعی > جامعه، شهری                     61\n",
      "اقتصادی > عمران و اشتغال                  49\n",
      "بین الملل > آسیا،خاورمیانه                47\n",
      "اجتماعی > آموزش و پرورش                   46\n",
      "فرهنگی و هنری > گردشگری و میراث           42\n",
      "علمی و دانشگاهی > علم و فناوری ایران      38\n",
      "Name: count, dtype: int64\n",
      "Unique tags: 98\n"
     ]
    }
   ],
   "source": [
    "uniq = df_train[\"tag_clean\"].value_counts()\n",
    "print(uniq.head(30))\n",
    "print(\"Unique tags:\", uniq.shape[0])"
   ]
  },
  {
   "cell_type": "code",
   "execution_count": 40,
   "id": "efa2087c",
   "metadata": {},
   "outputs": [],
   "source": [
    "rules = {\n",
    "    \"بین الملل\": [\"بین الملل\", \"جهان\", \"آلمان\", \"اروپا\", \"آمریکا\"],\n",
    "    \"ایران_استانها\": [\"استان\", \"استانها\", \"ایران\"],\n",
    "    \"سیاسی\": [\"سیاسی\", \"سیاست\", \"مجلس\", \"انتخابات\", \"قوه\", \"رییس جمهور\", \"رئیس جمهور\", \"دولت\"],\n",
    "    \"اقتصادی\": [\"اقتصاد\", \"اقتصادی\", \"بورس\", \"بانک\", \"ارز\", \"تورم\", \"نفت\", \"سهام\", \"بازار\", \"سرمایه\"],\n",
    "    \"علمی_فرهنگی_ورزشی\": [\n",
    "        \"علمی\", \"دانشگاه\", \"فرهنگی\", \"فرهنگ\", \"هنر\", \"سینما\", \"کتاب\", \"پژوهش\",\n",
    "        \"ورزشی\", \"فوتبال\", \"کشتی\", \"والیبال\", \"توپ و تور\", \"بسکتبال\", \"تکواندو\", \"گردشگری\", \"میراث\"\n",
    "    ]\n",
    "}\n",
    "\n",
    "def map_to_six(tag: str) -> str:\n",
    "    if not isinstance(tag, str):\n",
    "        return \"اجتماعی\"   # پیش‌فرض\n",
    "    \n",
    "    for label, keywords in rules.items():\n",
    "        if any(kw in tag for kw in keywords):\n",
    "            return label\n",
    "    return \"اجتماعی\"       # اگر هیچ قانونی نخورد"
   ]
  },
  {
   "cell_type": "code",
   "execution_count": 42,
   "id": "634c6db4",
   "metadata": {},
   "outputs": [
    {
     "name": "stdout",
     "output_type": "stream",
     "text": [
      "label6\n",
      "بین الملل            3045\n",
      "سیاسی                2717\n",
      "ایران_استانها        1863\n",
      "اجتماعی              1492\n",
      "اقتصادی               884\n",
      "علمی_فرهنگی_ورزشی     506\n",
      "Name: count, dtype: int64\n"
     ]
    }
   ],
   "source": [
    "df_train.loc[:,\"label6\"] = df_train[\"tag_clean\"].map(map_to_six)\n",
    "print(df_train[\"label6\"].value_counts())"
   ]
  },
  {
   "cell_type": "code",
   "execution_count": 44,
   "id": "d7d12de4",
   "metadata": {},
   "outputs": [],
   "source": [
    "label_to_id = {\n",
    "    \"اجتماعی\": 0,\n",
    "    \"اقتصادی\": 1,\n",
    "    \"ایران_استانها\": 2,\n",
    "    \"بین الملل\": 3,\n",
    "    \"سیاسی\": 4,\n",
    "    \"علمی_فرهنگی_ورزشی\": 5\n",
    "}\n",
    "df_train.loc[:,\"y\"] = df_train[\"label6\"].map(label_to_id)"
   ]
  },
  {
   "cell_type": "code",
   "execution_count": 46,
   "id": "2c0f600c",
   "metadata": {},
   "outputs": [
    {
     "data": {
      "text/html": [
       "<div>\n",
       "<style scoped>\n",
       "    .dataframe tbody tr th:only-of-type {\n",
       "        vertical-align: middle;\n",
       "    }\n",
       "\n",
       "    .dataframe tbody tr th {\n",
       "        vertical-align: top;\n",
       "    }\n",
       "\n",
       "    .dataframe thead th {\n",
       "        text-align: right;\n",
       "    }\n",
       "</style>\n",
       "<table border=\"1\" class=\"dataframe\">\n",
       "  <thead>\n",
       "    <tr style=\"text-align: right;\">\n",
       "      <th></th>\n",
       "      <th>tags</th>\n",
       "      <th>text</th>\n",
       "      <th>clean_text</th>\n",
       "      <th>final_text</th>\n",
       "      <th>tag_clean</th>\n",
       "      <th>label6</th>\n",
       "      <th>y</th>\n",
       "    </tr>\n",
       "  </thead>\n",
       "  <tbody>\n",
       "    <tr>\n",
       "      <th>0</th>\n",
       "      <td>استانها</td>\n",
       "      <td>روایتی از تحصیل زیرسقف‌های لرزان و سرمای سوزان...</td>\n",
       "      <td>روایتی از تحصیل زیرسقف های لرزان و سرمای سوزان...</td>\n",
       "      <td>روایتی تحصیل زیرسقف‌های لرزان سرمای سوزان دانش...</td>\n",
       "      <td>استانها</td>\n",
       "      <td>ایران_استانها</td>\n",
       "      <td>2</td>\n",
       "    </tr>\n",
       "    <tr>\n",
       "      <th>1</th>\n",
       "      <td>استانها</td>\n",
       "      <td>انقلابی سرشناس بحرین در گفت‌وگو با تسنیم: مردم...</td>\n",
       "      <td>انقلابی سرشناس بحرین در گفت وگو با تسنیم مردم ...</td>\n",
       "      <td>انقلابی سرشناس بحرین گفت‌وگو تسنیم مردم منطقه ...</td>\n",
       "      <td>استانها</td>\n",
       "      <td>ایران_استانها</td>\n",
       "      <td>2</td>\n",
       "    </tr>\n",
       "    <tr>\n",
       "      <th>2</th>\n",
       "      <td>استانها</td>\n",
       "      <td>‌زندگی مردم در شهر قم ‌جریان دارد / پیشگیری در...</td>\n",
       "      <td>زندگی مردم در شهر قم جریان دارد پیشگیری در اول...</td>\n",
       "      <td>زندگی مردم شهر قم پیشگیری اولویت مردم قرار تصا...</td>\n",
       "      <td>استانها</td>\n",
       "      <td>ایران_استانها</td>\n",
       "      <td>2</td>\n",
       "    </tr>\n",
       "    <tr>\n",
       "      <th>3</th>\n",
       "      <td>اجتماعی</td>\n",
       "      <td>واکنش  ;پروفسور کرمی ; به دروغ‌پراکنی برخی رسا...</td>\n",
       "      <td>واکنش پروفسور کرمی به دروغ پراکنی برخی رسانه ه...</td>\n",
       "      <td>واکنش پروفسور کرمی دروغ‌پراکنی رسانه‌ها القای ...</td>\n",
       "      <td>اجتماعی</td>\n",
       "      <td>اجتماعی</td>\n",
       "      <td>0</td>\n",
       "    </tr>\n",
       "    <tr>\n",
       "      <th>4</th>\n",
       "      <td>اقتصادی</td>\n",
       "      <td>مردم نگران تأمین کالاهای موردنیاز خود نباشند/ ...</td>\n",
       "      <td>مردم نگران تامین کالاهای موردنیاز خود نباشند م...</td>\n",
       "      <td>مردم نگران تامین کالاهای موردنیاز نباشند میزان...</td>\n",
       "      <td>اقتصادی</td>\n",
       "      <td>اقتصادی</td>\n",
       "      <td>1</td>\n",
       "    </tr>\n",
       "  </tbody>\n",
       "</table>\n",
       "</div>"
      ],
      "text/plain": [
       "      tags                                               text  \\\n",
       "0  استانها  روایتی از تحصیل زیرسقف‌های لرزان و سرمای سوزان...   \n",
       "1  استانها  انقلابی سرشناس بحرین در گفت‌وگو با تسنیم: مردم...   \n",
       "2  استانها  ‌زندگی مردم در شهر قم ‌جریان دارد / پیشگیری در...   \n",
       "3  اجتماعی  واکنش  ;پروفسور کرمی ; به دروغ‌پراکنی برخی رسا...   \n",
       "4  اقتصادی  مردم نگران تأمین کالاهای موردنیاز خود نباشند/ ...   \n",
       "\n",
       "                                          clean_text  \\\n",
       "0  روایتی از تحصیل زیرسقف های لرزان و سرمای سوزان...   \n",
       "1  انقلابی سرشناس بحرین در گفت وگو با تسنیم مردم ...   \n",
       "2  زندگی مردم در شهر قم جریان دارد پیشگیری در اول...   \n",
       "3  واکنش پروفسور کرمی به دروغ پراکنی برخی رسانه ه...   \n",
       "4  مردم نگران تامین کالاهای موردنیاز خود نباشند م...   \n",
       "\n",
       "                                          final_text tag_clean         label6  \\\n",
       "0  روایتی تحصیل زیرسقف‌های لرزان سرمای سوزان دانش...   استانها  ایران_استانها   \n",
       "1  انقلابی سرشناس بحرین گفت‌وگو تسنیم مردم منطقه ...   استانها  ایران_استانها   \n",
       "2  زندگی مردم شهر قم پیشگیری اولویت مردم قرار تصا...   استانها  ایران_استانها   \n",
       "3  واکنش پروفسور کرمی دروغ‌پراکنی رسانه‌ها القای ...   اجتماعی        اجتماعی   \n",
       "4  مردم نگران تامین کالاهای موردنیاز نباشند میزان...   اقتصادی        اقتصادی   \n",
       "\n",
       "   y  \n",
       "0  2  \n",
       "1  2  \n",
       "2  2  \n",
       "3  0  \n",
       "4  1  "
      ]
     },
     "execution_count": 46,
     "metadata": {},
     "output_type": "execute_result"
    }
   ],
   "source": [
    "df_train.head()"
   ]
  },
  {
   "cell_type": "code",
   "execution_count": 48,
   "id": "6ff5477c",
   "metadata": {},
   "outputs": [],
   "source": [
    "X_train, X_test, y_train, y_test = train_test_split(\n",
    "    df_train[\"final_text\"], df_train[\"y\"],\n",
    "    test_size=0.2,    \n",
    "    random_state=42,\n",
    "    stratify=df_train[\"y\"]  \n",
    ")\n"
   ]
  },
  {
   "cell_type": "code",
   "execution_count": null,
   "id": "dc6528e7",
   "metadata": {},
   "outputs": [
    {
     "name": "stdout",
     "output_type": "stream",
     "text": [
      "Fitting 3 folds for each of 12 candidates, totalling 36 fits\n",
      "Best params: {'model__C': 0.2, 'tf_idf__min_df': 15}\n",
      "Best CV F1: 0.8265274331001916\n",
      "Validation F1 (weighted): 0.8399716361256102\n",
      "              precision    recall  f1-score   support\n",
      "\n",
      "           0       0.80      0.69      0.74       298\n",
      "           1       0.81      0.72      0.76       177\n",
      "           2       0.91      0.82      0.86       373\n",
      "           3       0.84      0.91      0.88       609\n",
      "           4       0.83      0.93      0.88       544\n",
      "           5       0.81      0.68      0.74       101\n",
      "\n",
      "    accuracy                           0.84      2102\n",
      "   macro avg       0.84      0.79      0.81      2102\n",
      "weighted avg       0.84      0.84      0.84      2102\n",
      "\n"
     ]
    }
   ],
   "source": [
    "\n",
    "pipeline = Pipeline([\n",
    "    (\"tf_idf\" , TfidfVectorizer(\n",
    "        analyzer=\"word\",\n",
    "        ngram_range=(1,2),\n",
    "        max_features=15000,    \n",
    "        min_df=5,              \n",
    "        max_df=0.95,           \n",
    "        sublinear_tf=True\n",
    "    )),\n",
    "    (\"model\",LinearSVC())\n",
    "])\n",
    "\n",
    "param_grid = {\n",
    "    \"model__C\":[0.01,0.05,0.1,0.2],\n",
    "    \"tf_idf__min_df\":[5,10,15]\n",
    "}\n",
    "\n",
    "grid = GridSearchCV(\n",
    "    pipeline,\n",
    "    param_grid=param_grid,\n",
    "    scoring=\"f1_weighted\",   \n",
    "    cv=3,                    \n",
    "    n_jobs=-1,              \n",
    "    verbose=1\n",
    ")\n",
    "\n",
    "grid.fit(X_train, y_train)\n",
    "\n",
    "print(\"Best params:\", grid.best_params_)\n",
    "print(\"Best CV F1:\", grid.best_score_)\n",
    "\n",
    "# ارزیابی روی Validation\n",
    "pred_val = grid.predict(X_test)\n",
    "print(\"Validation F1 (weighted):\", f1_score(y_test, pred_val, average=\"weighted\"))\n",
    "print(classification_report(y_test, pred_val))"
   ]
  },
  {
   "cell_type": "code",
   "execution_count": 131,
   "id": "33e6aefd",
   "metadata": {},
   "outputs": [
    {
     "name": "stdout",
     "output_type": "stream",
     "text": [
      "Train validation F1 (weighted): 0.9434296558836581\n",
      "              precision    recall  f1-score   support\n",
      "\n",
      "           0       0.95      0.87      0.91      1194\n",
      "           1       0.94      0.93      0.93       707\n",
      "           2       0.96      0.92      0.94      1490\n",
      "           3       0.94      0.97      0.95      2436\n",
      "           4       0.95      0.99      0.97      2173\n",
      "           5       0.93      0.90      0.91       405\n",
      "\n",
      "    accuracy                           0.94      8405\n",
      "   macro avg       0.94      0.93      0.94      8405\n",
      "weighted avg       0.94      0.94      0.94      8405\n",
      "\n"
     ]
    }
   ],
   "source": [
    "pred_val_train = grid.predict(X_train)\n",
    "print(\"Train validation F1 (weighted):\", f1_score(y_train, pred_val_train, average=\"weighted\"))\n",
    "print(classification_report(y_train, pred_val_train))"
   ]
  },
  {
   "cell_type": "code",
   "execution_count": null,
   "id": "d4e7035b",
   "metadata": {},
   "outputs": [],
   "source": []
  }
 ],
 "metadata": {
  "kernelspec": {
   "display_name": "py310",
   "language": "python",
   "name": "python3"
  },
  "language_info": {
   "codemirror_mode": {
    "name": "ipython",
    "version": 3
   },
   "file_extension": ".py",
   "mimetype": "text/x-python",
   "name": "python",
   "nbconvert_exporter": "python",
   "pygments_lexer": "ipython3",
   "version": "3.10.18"
  }
 },
 "nbformat": 4,
 "nbformat_minor": 5
}
